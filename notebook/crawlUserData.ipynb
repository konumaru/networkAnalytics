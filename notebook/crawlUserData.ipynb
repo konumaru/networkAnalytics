{
 "cells": [
  {
   "cell_type": "markdown",
   "metadata": {},
   "source": [
    "# 目次\n",
    "1. フォロワーの取得\n",
    "- idからユーザー情報を取得\n",
    "- フォローリストの取得"
   ]
  },
  {
   "cell_type": "markdown",
   "metadata": {},
   "source": [
    "## フォロワーの取得"
   ]
  },
  {
   "cell_type": "code",
   "execution_count": 2,
   "metadata": {},
   "outputs": [],
   "source": [
    "import json\n",
    "import time\n",
    "import random\n",
    "\n",
    "import numpy as np\n",
    "import pandas as pd\n",
    "from requests_oauthlib import OAuth1Session"
   ]
  },
  {
   "cell_type": "code",
   "execution_count": 3,
   "metadata": {},
   "outputs": [],
   "source": [
    "# APIの取得\n",
    "def getAPI():\n",
    "    # キー取得\n",
    "    with open('../data/key.json') as f:\n",
    "        keys = json.load(f)\n",
    "    \n",
    "    # 環境変数から承認情報を取得\n",
    "    CONSUMER_KEY    = keys['CONSUMER_KEY']\n",
    "    CONSUMER_SECRET = keys['CONSUMER_SECRET']\n",
    "    ACCESS_TOKEN    = keys['ACCESS_TOKEN']\n",
    "    ACCESS_SECRET   = keys['ACCESS_SECRET']\n",
    "    api = OAuth1Session(CONSUMER_KEY, CONSUMER_SECRET, ACCESS_TOKEN, ACCESS_SECRET)\n",
    "    return api"
   ]
  },
  {
   "cell_type": "code",
   "execution_count": null,
   "metadata": {},
   "outputs": [],
   "source": [
    "# 特定ユーザーフォロワーidリストを取得\n",
    "def getFollowerIds(api, screen_name):\n",
    "    ids = []\n",
    "    cursor = -1\n",
    "    \n",
    "    url = 'https://api.twitter.com/1.1/followers/ids.json'\n",
    "    params = {'screen_name': screen_name}\n",
    "    req = api.get(url, params=params)\n",
    "    \n",
    "    # 取得フォロワー数をカウント\n",
    "    total_followers = 0\n",
    "    if req.status_code == 200:\n",
    "        while cursor != 0:\n",
    "            #params['cursor'] = str(cursor)\n",
    "            temp = json.loads(req.text)\n",
    "\n",
    "            ids.extend(temp['ids'])\n",
    "            total_followers += len(temp['ids'])\n",
    "            print(total_followers)\n",
    "            \n",
    "            cursor = temp['next_cursor']\n",
    "            time.sleep(10*random.uniform(0.5,1.5))\n",
    "            params = {'screen_name': screen_name,'cursor':cursor}\n",
    "            req = api.get(url, params=params)\n",
    "        \n",
    "            \n",
    "    else:\n",
    "        print (\"Error: %d at getFollowerIds\" % req.status_code)\n",
    "    return ids"
   ]
  },
  {
   "cell_type": "code",
   "execution_count": null,
   "metadata": {},
   "outputs": [],
   "source": [
    "api = getAPI()\n",
    "\n",
    "ids = getFollowerIds(api, screen_name='henjinmajime')\n",
    "len(ids)"
   ]
  },
  {
   "cell_type": "markdown",
   "metadata": {},
   "source": [
    "## idからユーザー情報を取得\n",
    "- 取得情報  \n",
    "user_id/screen_name/num_friend/num_follower/self_description"
   ]
  },
  {
   "cell_type": "markdown",
   "metadata": {},
   "source": [
    "## psql class\n",
    "- *database_name*：twitter_analytics \n",
    "- *table_name*：followers\n",
    "- *user,password*は適当に変更してください"
   ]
  },
  {
   "cell_type": "code",
   "execution_count": 47,
   "metadata": {},
   "outputs": [],
   "source": [
    "import psycopg2\n",
    "class psql_save(object):\n",
    "    def __init__(self):\n",
    "        self.conn = psycopg2.connect(\n",
    "        host=\"localhost\",\n",
    "        database=\"twitter_analytics\",\n",
    "        port=\"5432\",\n",
    "        user=\"kyohei\",\n",
    "        password=\"password\"\n",
    "        )\n",
    "        self.cursor = self.conn.cursor()\n",
    "        self.cursor.execute('DROP TABLE IF EXISTS followers')\n",
    "        self.cursor.execute('''\n",
    "                CREATE TABLE IF NOT EXISTS followers (\n",
    "                id BIGINT,\n",
    "                screen_name TEXT,\n",
    "                num_friends INT,\n",
    "                num_followers INT,\n",
    "                self_discription TEXT,\n",
    "                PRIMARY KEY(id)\n",
    "                )\n",
    "            ''')\n",
    "        self.conn.commit()\n",
    "\n",
    "    def process_section(self,user):\n",
    "        self.cursor.execute('''\n",
    "              INSERT INTO followers VALUES (%s, %s, %s, %s, %s)''',\n",
    "               (int(user['id']), \n",
    "                 user['screen_name'], \n",
    "                 int(user['friends_count']), \n",
    "                 int(user['followers_count']), \n",
    "                 user['description']\n",
    "                )\n",
    "        )\n",
    "        self.conn.commit()\n",
    "        \n",
    "    def close_section(self):\n",
    "        self.conn.close()\n",
    "\n"
   ]
  },
  {
   "cell_type": "code",
   "execution_count": 48,
   "metadata": {},
   "outputs": [],
   "source": [
    "# idから上記の情報を取得\n",
    "def getUserInfo(api, ids):\n",
    "    url = 'https://api.twitter.com/1.1/users/lookup.json'\n",
    "    ids = np.array(ids).astype(str)\n",
    "    user_info = []\n",
    "    psql = psql_save()\n",
    "    \n",
    "    \n",
    "    for i in range(0, len(ids), 100):\n",
    "        _ids = ','.join(ids[i:i+100])\n",
    "        \n",
    "        params = {'user_id': _ids}\n",
    "        \n",
    "        req = api.get(url, params=params)\n",
    "        if req.status_code == 200:\n",
    "            req_text = json.loads(req.text)\n",
    "            \n",
    "            # user_info.extend([[user['id'], user['screen_name'], user['friends_count'], user['followers_count'], user['description']] for user in req_text])\n",
    "            for user in req_text:\n",
    "                psql.process_section(user)\n",
    "            \n",
    "        else:\n",
    "            print (\"Error: %d at getUserInfo()\" % req.status_code)\n",
    "        time.sleep(10*random.uniform(0.5,1.5))\n",
    "    psql.close_section()\n",
    "    return user_info"
   ]
  },
  {
   "cell_type": "code",
   "execution_count": null,
   "metadata": {},
   "outputs": [],
   "source": [
    "user_info = getUserInfo(api, ids)"
   ]
  },
  {
   "cell_type": "code",
   "execution_count": null,
   "metadata": {
    "collapsed": true
   },
   "outputs": [],
   "source": [
    "df = pd.DataFrame(user_info, columns=['user_id', 'screen_name', 'num_friends', 'num_followers', 'self_description'])"
   ]
  },
  {
   "cell_type": "code",
   "execution_count": null,
   "metadata": {
    "collapsed": true
   },
   "outputs": [],
   "source": [
    "df.to_csv('./data/user_info.csv', index=False)"
   ]
  },
  {
   "cell_type": "code",
   "execution_count": null,
   "metadata": {
    "collapsed": true
   },
   "outputs": [],
   "source": [
    "# csv出力する\n",
    "df = pd.read_csv('./data/user_info.csv')"
   ]
  },
  {
   "cell_type": "code",
   "execution_count": null,
   "metadata": {
    "collapsed": true
   },
   "outputs": [],
   "source": [
    "df"
   ]
  },
  {
   "cell_type": "markdown",
   "metadata": {},
   "source": [
    "## フォローリストの取得"
   ]
  },
  {
   "cell_type": "code",
   "execution_count": 9,
   "metadata": {
    "collapsed": true
   },
   "outputs": [],
   "source": [
    "# 特定ユーザーフォローidリストを取得\n",
    "def getFriendIds(api, user_id):\n",
    "    ids = []\n",
    "    cursor = -1\n",
    "    \n",
    "    url = 'https://api.twitter.com/1.1/friends/ids.json'\n",
    "    params = {'user_id': user_id}\n",
    "    req = api.get(url, params=params)\n",
    "    \n",
    "    if req.status_code == 200:\n",
    "        while cursor != 0:\n",
    "            params['cursor'] = str(cursor)\n",
    "            temp = json.loads(req.text)\n",
    "\n",
    "            ids.extend(temp['ids'])\n",
    "            cursor = temp['next_cursor']\n",
    "            time.sleep(10*random.uniform(0.5,1.5))\n",
    "    else:\n",
    "        print (\"Error: %d at getFollowerIds\" % req.status_code)\n",
    "    return ids"
   ]
  },
  {
   "cell_type": "code",
   "execution_count": null,
   "metadata": {
    "collapsed": true
   },
   "outputs": [],
   "source": []
  },
  {
   "cell_type": "code",
   "execution_count": null,
   "metadata": {
    "collapsed": true
   },
   "outputs": [],
   "source": []
  },
  {
   "cell_type": "code",
   "execution_count": null,
   "metadata": {
    "collapsed": true
   },
   "outputs": [],
   "source": []
  },
  {
   "cell_type": "code",
   "execution_count": null,
   "metadata": {
    "collapsed": true
   },
   "outputs": [],
   "source": []
  }
 ],
 "metadata": {
  "kernelspec": {
   "display_name": "Python 3",
   "language": "python",
   "name": "python3"
  },
  "language_info": {
   "codemirror_mode": {
    "name": "ipython",
    "version": 3
   },
   "file_extension": ".py",
   "mimetype": "text/x-python",
   "name": "python",
   "nbconvert_exporter": "python",
   "pygments_lexer": "ipython3",
   "version": "3.5.3"
  }
 },
 "nbformat": 4,
 "nbformat_minor": 2
}
