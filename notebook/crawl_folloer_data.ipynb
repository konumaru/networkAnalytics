{
 "cells": [
  {
   "cell_type": "markdown",
   "metadata": {},
   "source": [
    "# Twitterでフォロワーをクラスタリングしてみた。\n",
    "---\n",
    "データ収集"
   ]
  },
  {
   "cell_type": "markdown",
   "metadata": {},
   "source": [
    "### 使うライブラリ\n",
    "networkx, pandas, matplotlib"
   ]
  },
  {
   "cell_type": "markdown",
   "metadata": {},
   "source": [
    "## 目次\n",
    "- クラスタリングに必要なデータとは、\n",
    "- クラスタリングをするために必要な手順（ライブラリや、データ整形など）\n",
    "- 結果見る\n",
    "- 結果をDB情報から引っ張ってきてさらにみて見る。\n",
    "- 結果を元に、クラスタの属性分析をする方向性を固める。\n",
    "    - 今のところ、自己紹介文を使って、tf-idfで処理し、属性を表す単語をピックアップする予定。\n",
    "- 属性分析"
   ]
  },
  {
   "cell_type": "markdown",
   "metadata": {},
   "source": [
    "## クラスタリングに必要なデータとは。\n",
    "簡単にまとめると、  \n",
    "ノードとエッジのみ。\n",
    "\n",
    "今回の場合は、  \n",
    "ノード = フォロワー（twitterユーザー）  \n",
    "エッジ = 繋がりの関係（誰が誰をフォローしているのかということ）"
   ]
  },
  {
   "cell_type": "markdown",
   "metadata": {},
   "source": [
    "ちょっとしたデモやる"
   ]
  },
  {
   "cell_type": "code",
   "execution_count": 1,
   "metadata": {},
   "outputs": [],
   "source": [
    "import os, sys\n",
    "sys.path.append('..')\n",
    "\n",
    "import json\n",
    "import time\n",
    "import random\n",
    "from tqdm import tqdm\n",
    "\n",
    "import networkx as nx\n",
    "import matplotlib.pyplot as plt\n",
    "%matplotlib inline"
   ]
  },
  {
   "cell_type": "markdown",
   "metadata": {},
   "source": [
    "## クラスタリングをするために必要な手順（ライブラリや、データ整形など）\n",
    "__ライブラリ__  \n",
    "ライブラリは前述したものを参考に。  \n",
    "\n",
    "__データ__  \n",
    "- twitterのuser_idをひとまず、ノードの判別に利用する。\n",
    "- フォロワーがフォローしているユーザー群を持ってきて、フォロワーに含まれるuser_idを取得  \n",
    "\n",
    "```\n",
    "dict = {ユーザーA: [B, C, D, F], ユーザーB: [A, D, E], ...}\n",
    "```\n",
    "みたいな"
   ]
  },
  {
   "cell_type": "code",
   "execution_count": 2,
   "metadata": {},
   "outputs": [],
   "source": [
    "from functions import twitter"
   ]
  },
  {
   "cell_type": "code",
   "execution_count": 3,
   "metadata": {},
   "outputs": [],
   "source": [
    "tw = twitter()"
   ]
  },
  {
   "cell_type": "code",
   "execution_count": 4,
   "metadata": {},
   "outputs": [
    {
     "name": "stdout",
     "output_type": "stream",
     "text": [
      "totalGetFollowerNum: 5000\n",
      "totalGetFollowerNum: 5361\n"
     ]
    }
   ],
   "source": [
    "# まず、自分のフォロワーを取得\n",
    "follower_ids = tw.getFollowerIds(screen_name='rui_308')"
   ]
  },
  {
   "cell_type": "code",
   "execution_count": 6,
   "metadata": {},
   "outputs": [],
   "source": [
    "# idリストからユーザー情報の取得\n",
    "tw.getUserInfo(query_screen_name='rui_308', ids=follower_ids[:100])"
   ]
  },
  {
   "cell_type": "markdown",
   "metadata": {},
   "source": [
    "### DBからpandas.DataFrameに代入 "
   ]
  },
  {
   "cell_type": "code",
   "execution_count": 10,
   "metadata": {},
   "outputs": [
    {
     "data": {
      "text/html": [
       "<div>\n",
       "<style scoped>\n",
       "    .dataframe tbody tr th:only-of-type {\n",
       "        vertical-align: middle;\n",
       "    }\n",
       "\n",
       "    .dataframe tbody tr th {\n",
       "        vertical-align: top;\n",
       "    }\n",
       "\n",
       "    .dataframe thead th {\n",
       "        text-align: right;\n",
       "    }\n",
       "</style>\n",
       "<table border=\"1\" class=\"dataframe\">\n",
       "  <thead>\n",
       "    <tr style=\"text-align: right;\">\n",
       "      <th></th>\n",
       "      <th>slave_screen_name</th>\n",
       "      <th>user_id</th>\n",
       "      <th>screen_name</th>\n",
       "      <th>friends_count</th>\n",
       "      <th>followers_count</th>\n",
       "      <th>self_discription</th>\n",
       "      <th>protected</th>\n",
       "    </tr>\n",
       "  </thead>\n",
       "  <tbody>\n",
       "    <tr>\n",
       "      <th>0</th>\n",
       "      <td>rui_308</td>\n",
       "      <td>886745335</td>\n",
       "      <td>classics_jp</td>\n",
       "      <td>3074</td>\n",
       "      <td>2814</td>\n",
       "      <td>ホメロス(H),アイスキュロス(Ac),ソフォクレス(S),エウリピデス(E),アリストパネ...</td>\n",
       "      <td>0</td>\n",
       "    </tr>\n",
       "    <tr>\n",
       "      <th>1</th>\n",
       "      <td>rui_308</td>\n",
       "      <td>505760483</td>\n",
       "      <td>DM_Hero</td>\n",
       "      <td>4852</td>\n",
       "      <td>3806</td>\n",
       "      <td>最近のデュエマで勝手に思ったことをカード別につぶやくbotです デュエルマスターズをやってる...</td>\n",
       "      <td>0</td>\n",
       "    </tr>\n",
       "    <tr>\n",
       "      <th>2</th>\n",
       "      <td>rui_308</td>\n",
       "      <td>379144705</td>\n",
       "      <td>ayataka_bot</td>\n",
       "      <td>61</td>\n",
       "      <td>52</td>\n",
       "      <td>http://t.co/OGdrONxkEE←説明書 創作bot。高天原防衛軍二番隊隊長の一...</td>\n",
       "      <td>0</td>\n",
       "    </tr>\n",
       "    <tr>\n",
       "      <th>3</th>\n",
       "      <td>rui_308</td>\n",
       "      <td>312027457</td>\n",
       "      <td>AAtest_bot</td>\n",
       "      <td>345</td>\n",
       "      <td>267</td>\n",
       "      <td>2chはモナー板、長編AA板の名言・迷言などを幅広く集めていくつもりのbot。こちらはテスト...</td>\n",
       "      <td>0</td>\n",
       "    </tr>\n",
       "    <tr>\n",
       "      <th>4</th>\n",
       "      <td>rui_308</td>\n",
       "      <td>2944058462</td>\n",
       "      <td>GMAhikaru</td>\n",
       "      <td>2500</td>\n",
       "      <td>2911</td>\n",
       "      <td>Lv17電波少女 邦ロック</td>\n",
       "      <td>0</td>\n",
       "    </tr>\n",
       "  </tbody>\n",
       "</table>\n",
       "</div>"
      ],
      "text/plain": [
       "  slave_screen_name     user_id  screen_name  friends_count  followers_count  \\\n",
       "0           rui_308   886745335  classics_jp           3074             2814   \n",
       "1           rui_308   505760483      DM_Hero           4852             3806   \n",
       "2           rui_308   379144705  ayataka_bot             61               52   \n",
       "3           rui_308   312027457   AAtest_bot            345              267   \n",
       "4           rui_308  2944058462    GMAhikaru           2500             2911   \n",
       "\n",
       "                                    self_discription  protected  \n",
       "0  ホメロス(H),アイスキュロス(Ac),ソフォクレス(S),エウリピデス(E),アリストパネ...          0  \n",
       "1  最近のデュエマで勝手に思ったことをカード別につぶやくbotです デュエルマスターズをやってる...          0  \n",
       "2  http://t.co/OGdrONxkEE←説明書 創作bot。高天原防衛軍二番隊隊長の一...          0  \n",
       "3  2chはモナー板、長編AA板の名言・迷言などを幅広く集めていくつもりのbot。こちらはテスト...          0  \n",
       "4                                      Lv17電波少女 邦ロック          0  "
      ]
     },
     "execution_count": 10,
     "metadata": {},
     "output_type": "execute_result"
    }
   ],
   "source": [
    "import pandas as pd\n",
    "import psycopg2\n",
    "\n",
    "# 接続情報\n",
    "connection_config = {\n",
    "    'host': 'localhost',\n",
    "    'port': '5432',\n",
    "    'database': 'my_db',\n",
    "    'user': 'rui',\n",
    "    'password': 'password'\n",
    "}\n",
    "\n",
    "# 接続\n",
    "connection = psycopg2.connect(**connection_config)\n",
    "df = pd.read_sql(sql=\"SELECT * FROM twitter.follower_user_info;\", con=connection)\n",
    "df.head()"
   ]
  },
  {
   "cell_type": "code",
   "execution_count": 11,
   "metadata": {},
   "outputs": [
    {
     "data": {
      "text/plain": [
       "(4531, 7)"
      ]
     },
     "execution_count": 11,
     "metadata": {},
     "output_type": "execute_result"
    }
   ],
   "source": [
    "df.shape"
   ]
  },
  {
   "cell_type": "code",
   "execution_count": 12,
   "metadata": {},
   "outputs": [],
   "source": [
    "df = df[df.protected==0]"
   ]
  },
  {
   "cell_type": "code",
   "execution_count": 13,
   "metadata": {},
   "outputs": [
    {
     "data": {
      "text/plain": [
       "(4224, 7)"
      ]
     },
     "execution_count": 13,
     "metadata": {},
     "output_type": "execute_result"
    }
   ],
   "source": [
    "df.shape"
   ]
  },
  {
   "cell_type": "code",
   "execution_count": 14,
   "metadata": {},
   "outputs": [
    {
     "data": {
      "text/plain": [
       "array([[<matplotlib.axes._subplots.AxesSubplot object at 0x1516c95be0>,\n",
       "        <matplotlib.axes._subplots.AxesSubplot object at 0x1516e44080>]],\n",
       "      dtype=object)"
      ]
     },
     "execution_count": 14,
     "metadata": {},
     "output_type": "execute_result"
    },
    {
     "data": {
      "image/png": "[encoded data removed]",
      "text/plain": [
       "<matplotlib.figure.Figure at 0x105ade470>"
      ]
     },
     "metadata": {},
     "output_type": "display_data"
    }
   ],
   "source": [
    "max_count = 5000\n",
    "\n",
    "df.loc[(df.friends_count<max_count) & (df.followers_count<max_count), ['friends_count', 'followers_count']].hist(bins=50, figsize=(15,5))"
   ]
  },
  {
   "cell_type": "code",
   "execution_count": 15,
   "metadata": {},
   "outputs": [],
   "source": [
    "test_df = df[(400<df.friends_count) & (df.friends_count<=500)]\n",
    "test_df = test_df.reset_index(drop=True)"
   ]
  },
  {
   "cell_type": "code",
   "execution_count": 16,
   "metadata": {},
   "outputs": [
    {
     "data": {
      "text/plain": [
       "321"
      ]
     },
     "execution_count": 16,
     "metadata": {},
     "output_type": "execute_result"
    }
   ],
   "source": [
    "len(test_df)"
   ]
  },
  {
   "cell_type": "code",
   "execution_count": 17,
   "metadata": {},
   "outputs": [
    {
     "data": {
      "text/plain": [
       "array([[<matplotlib.axes._subplots.AxesSubplot object at 0x1516f65550>,\n",
       "        <matplotlib.axes._subplots.AxesSubplot object at 0x151717f4a8>]],\n",
       "      dtype=object)"
      ]
     },
     "execution_count": 17,
     "metadata": {},
     "output_type": "execute_result"
    },
    {
     "data": {
      "image/png": "[encoded data removed]",
      "text/plain": [
       "<matplotlib.figure.Figure at 0x1514b3d828>"
      ]
     },
     "metadata": {},
     "output_type": "display_data"
    }
   ],
   "source": [
    "test_df.loc[:, ['friends_count', 'followers_count']].hist(bins=50, figsize=(15,5))"
   ]
  },
  {
   "cell_type": "code",
   "execution_count": 18,
   "metadata": {},
   "outputs": [],
   "source": [
    "from db import psql_save\n",
    "psql = psql_save()"
   ]
  },
  {
   "cell_type": "code",
   "execution_count": 20,
   "metadata": {},
   "outputs": [
    {
     "name": "stderr",
     "output_type": "stream",
     "text": [
      "\n",
      "  0%|          | 0/40 [00:00<?, ?it/s]\u001b[A"
     ]
    },
    {
     "ename": "KeyboardInterrupt",
     "evalue": "",
     "output_type": "error",
     "traceback": [
      "\u001b[0;31m---------------------------------------------------------------------------\u001b[0m",
      "\u001b[0;31mKeyboardInterrupt\u001b[0m                         Traceback (most recent call last)",
      "\u001b[0;32m<ipython-input-20-04790f35a872>\u001b[0m in \u001b[0;36m<module>\u001b[0;34m()\u001b[0m\n\u001b[1;32m      7\u001b[0m     \u001b[0mscreen_name\u001b[0m \u001b[0;34m=\u001b[0m \u001b[0mtest_df\u001b[0m\u001b[0;34m[\u001b[0m\u001b[0;34m'screen_name'\u001b[0m\u001b[0;34m]\u001b[0m\u001b[0;34m[\u001b[0m\u001b[0mi\u001b[0m\u001b[0;34m]\u001b[0m\u001b[0;34m\u001b[0m\u001b[0m\n\u001b[1;32m      8\u001b[0m \u001b[0;34m\u001b[0m\u001b[0m\n\u001b[0;32m----> 9\u001b[0;31m     \u001b[0mfriends_ids\u001b[0m \u001b[0;34m=\u001b[0m \u001b[0mtw\u001b[0m\u001b[0;34m.\u001b[0m\u001b[0mgetFriendIds\u001b[0m\u001b[0;34m(\u001b[0m\u001b[0mscreen_name\u001b[0m\u001b[0;34m)\u001b[0m\u001b[0;34m\u001b[0m\u001b[0m\n\u001b[0m\u001b[1;32m     10\u001b[0m     \u001b[0mstr_friends_ids\u001b[0m \u001b[0;34m=\u001b[0m \u001b[0;34m','\u001b[0m\u001b[0;34m.\u001b[0m\u001b[0mjoin\u001b[0m\u001b[0;34m(\u001b[0m\u001b[0mmap\u001b[0m\u001b[0;34m(\u001b[0m\u001b[0mstr\u001b[0m\u001b[0;34m,\u001b[0m \u001b[0mfriends_ids\u001b[0m\u001b[0;34m)\u001b[0m\u001b[0;34m)\u001b[0m\u001b[0;34m\u001b[0m\u001b[0m\n\u001b[1;32m     11\u001b[0m \u001b[0;34m\u001b[0m\u001b[0m\n",
      "\u001b[0;32m~/Documents/python/networkAnalytics/functions.py\u001b[0m in \u001b[0;36mgetFriendIds\u001b[0;34m(self, screen_name)\u001b[0m\n\u001b[1;32m     52\u001b[0m                 \u001b[0mcursor\u001b[0m \u001b[0;34m=\u001b[0m \u001b[0mtemp\u001b[0m\u001b[0;34m[\u001b[0m\u001b[0;34m'next_cursor'\u001b[0m\u001b[0;34m]\u001b[0m\u001b[0;34m\u001b[0m\u001b[0m\n\u001b[1;32m     53\u001b[0m                 \u001b[0mparams\u001b[0m\u001b[0;34m[\u001b[0m\u001b[0;34m'cursor'\u001b[0m\u001b[0;34m]\u001b[0m \u001b[0;34m=\u001b[0m \u001b[0mtemp\u001b[0m\u001b[0;34m[\u001b[0m\u001b[0;34m'next_cursor'\u001b[0m\u001b[0;34m]\u001b[0m\u001b[0;34m\u001b[0m\u001b[0m\n\u001b[0;32m---> 54\u001b[0;31m                 \u001b[0mtime\u001b[0m\u001b[0;34m.\u001b[0m\u001b[0msleep\u001b[0m\u001b[0;34m(\u001b[0m\u001b[0;36m10\u001b[0m\u001b[0;34m*\u001b[0m\u001b[0mrandom\u001b[0m\u001b[0;34m.\u001b[0m\u001b[0muniform\u001b[0m\u001b[0;34m(\u001b[0m\u001b[0;36m0.5\u001b[0m\u001b[0;34m,\u001b[0m\u001b[0;36m1.5\u001b[0m\u001b[0;34m)\u001b[0m\u001b[0;34m)\u001b[0m\u001b[0;34m\u001b[0m\u001b[0m\n\u001b[0m\u001b[1;32m     55\u001b[0m                 \u001b[0;31m# print('totalGetFriendNum: {0}'.format(len(ids)))\u001b[0m\u001b[0;34m\u001b[0m\u001b[0;34m\u001b[0m\u001b[0m\n\u001b[1;32m     56\u001b[0m             \u001b[0;32melif\u001b[0m \u001b[0mreq\u001b[0m\u001b[0;34m.\u001b[0m\u001b[0mstatus_code\u001b[0m \u001b[0;34m==\u001b[0m \u001b[0;36m429\u001b[0m\u001b[0;34m:\u001b[0m\u001b[0;34m\u001b[0m\u001b[0m\n",
      "\u001b[0;31mKeyboardInterrupt\u001b[0m: "
     ]
    }
   ],
   "source": [
    "value_list = []\n",
    "test_df = test_df[170:]\n",
    "test_df = test_df.reset_index(drop=True)\n",
    "\n",
    "for i in tqdm(range(11, len(test_df))):\n",
    "    user_id = test_df['user_id'][i]\n",
    "    screen_name = test_df['screen_name'][i]\n",
    "    \n",
    "    friends_ids = tw.getFriendIds(screen_name)\n",
    "    str_friends_ids = ','.join(map(str, friends_ids))\n",
    "    \n",
    "    value_list.append([user_id, screen_name, str_friends_ids])\n",
    "    time.sleep(60*random.uniform(0.5,1.5))\n",
    "\n",
    "    if i%10==0 and i!=0:\n",
    "        temp = [\"(%d,'%s','%s')\" % (v[0], v[1], v[2]) for v in value_list]\n",
    "        temp = ','.join(temp)\n",
    "        try:\n",
    "            psql.insert_friends(value_list=temp)\n",
    "        except:\n",
    "            pass\n",
    "        value_list.clear()\n",
    "        time.sleep(15*60*random.uniform(0.5,1.5))"
   ]
  },
  {
   "cell_type": "code",
   "execution_count": null,
   "metadata": {},
   "outputs": [],
   "source": []
  }
 ],
 "metadata": {
  "kernelspec": {
   "display_name": "Python 3",
   "language": "python",
   "name": "python3"
  },
  "language_info": {
   "codemirror_mode": {
    "name": "ipython",
    "version": 3
   },
   "file_extension": ".py",
   "mimetype": "text/x-python",
   "name": "python",
   "nbconvert_exporter": "python",
   "pygments_lexer": "ipython3",
   "version": "3.7.0"
  }
 },
 "nbformat": 4,
 "nbformat_minor": 2
}
