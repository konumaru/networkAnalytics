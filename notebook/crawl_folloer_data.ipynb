{
 "cells": [
  {
   "cell_type": "markdown",
   "metadata": {},
   "source": [
    "# Twitterでフォロワーをクラスタリングしてみた。\n",
    "---\n",
    "データ収集"
   ]
  },
  {
   "cell_type": "markdown",
   "metadata": {},
   "source": [
    "### 使うライブラリ\n",
    "networkx, pandas, matplotlib"
   ]
  },
  {
   "cell_type": "markdown",
   "metadata": {},
   "source": [
    "## 目次\n",
    "- クラスタリングに必要なデータとは、\n",
    "- クラスタリングをするために必要な手順（ライブラリや、データ整形など）\n",
    "- 結果見る\n",
    "- 結果をDB情報から引っ張ってきてさらにみて見る。\n",
    "- 結果を元に、クラスタの属性分析をする方向性を固める。\n",
    "    - 今のところ、自己紹介文を使って、tf-idfで処理し、属性を表す単語をピックアップする予定。\n",
    "- 属性分析"
   ]
  },
  {
   "cell_type": "markdown",
   "metadata": {},
   "source": [
    "## クラスタリングに必要なデータとは。\n",
    "簡単にまとめると、  \n",
    "ノードとエッジのみ。\n",
    "\n",
    "今回の場合は、  \n",
    "ノード = フォロワー（twitterユーザー）  \n",
    "エッジ = 繋がりの関係（誰が誰をフォローしているのかということ）"
   ]
  },
  {
   "cell_type": "markdown",
   "metadata": {},
   "source": [
    "ちょっとしたデモやる"
   ]
  },
  {
   "cell_type": "code",
   "execution_count": 1,
   "metadata": {},
   "outputs": [],
   "source": [
    "import os, sys\n",
    "sys.path.append('..')\n",
    "\n",
    "import json\n",
    "import time\n",
    "import random\n",
    "from tqdm import tqdm\n",
    "\n",
    "from functions import twitter\n",
    "\n",
    "import networkx as nx\n",
    "import matplotlib.pyplot as plt\n",
    "%matplotlib inline"
   ]
  },
  {
   "cell_type": "markdown",
   "metadata": {},
   "source": [
    "### DBからpandas.DataFrameに代入 "
   ]
  },
  {
   "cell_type": "code",
   "execution_count": 2,
   "metadata": {},
   "outputs": [
    {
     "data": {
      "text/html": [
       "<div>\n",
       "<style scoped>\n",
       "    .dataframe tbody tr th:only-of-type {\n",
       "        vertical-align: middle;\n",
       "    }\n",
       "\n",
       "    .dataframe tbody tr th {\n",
       "        vertical-align: top;\n",
       "    }\n",
       "\n",
       "    .dataframe thead th {\n",
       "        text-align: right;\n",
       "    }\n",
       "</style>\n",
       "<table border=\"1\" class=\"dataframe\">\n",
       "  <thead>\n",
       "    <tr style=\"text-align: right;\">\n",
       "      <th></th>\n",
       "      <th>slave_screen_name</th>\n",
       "      <th>user_id</th>\n",
       "      <th>screen_name</th>\n",
       "      <th>friends_count</th>\n",
       "      <th>followers_count</th>\n",
       "      <th>self_discription</th>\n",
       "      <th>protected</th>\n",
       "    </tr>\n",
       "  </thead>\n",
       "  <tbody>\n",
       "    <tr>\n",
       "      <th>0</th>\n",
       "      <td>rui_308</td>\n",
       "      <td>1027812767661678592</td>\n",
       "      <td>chelios406</td>\n",
       "      <td>35</td>\n",
       "      <td>19</td>\n",
       "      <td>シェブ チェリオスです。充電しないと即停止します。面白いツイートはできません。基本、夜しか出...</td>\n",
       "      <td>0</td>\n",
       "    </tr>\n",
       "    <tr>\n",
       "      <th>1</th>\n",
       "      <td>rui_308</td>\n",
       "      <td>473583122</td>\n",
       "      <td>hasamarhythm</td>\n",
       "      <td>1080</td>\n",
       "      <td>794</td>\n",
       "      <td>みんなもレッツ諦念</td>\n",
       "      <td>0</td>\n",
       "    </tr>\n",
       "    <tr>\n",
       "      <th>2</th>\n",
       "      <td>rui_308</td>\n",
       "      <td>742897072228044800</td>\n",
       "      <td>ke_mirakao8</td>\n",
       "      <td>102</td>\n",
       "      <td>22</td>\n",
       "      <td>大学生。クリープハイプ/andymori/ナードマグネット/teto/リーガルリリー/Hel...</td>\n",
       "      <td>0</td>\n",
       "    </tr>\n",
       "    <tr>\n",
       "      <th>3</th>\n",
       "      <td>rui_308</td>\n",
       "      <td>3184817456</td>\n",
       "      <td>JSUBC</td>\n",
       "      <td>1194</td>\n",
       "      <td>1201</td>\n",
       "      <td>J-subculture</td>\n",
       "      <td>0</td>\n",
       "    </tr>\n",
       "    <tr>\n",
       "      <th>4</th>\n",
       "      <td>rui_308</td>\n",
       "      <td>3220618783</td>\n",
       "      <td>Luisthebestcat</td>\n",
       "      <td>81</td>\n",
       "      <td>44</td>\n",
       "      <td>I love it all japanese music like indigo la En...</td>\n",
       "      <td>0</td>\n",
       "    </tr>\n",
       "  </tbody>\n",
       "</table>\n",
       "</div>"
      ],
      "text/plain": [
       "  slave_screen_name              user_id     screen_name  friends_count  \\\n",
       "0           rui_308  1027812767661678592      chelios406             35   \n",
       "1           rui_308            473583122    hasamarhythm           1080   \n",
       "2           rui_308   742897072228044800     ke_mirakao8            102   \n",
       "3           rui_308           3184817456           JSUBC           1194   \n",
       "4           rui_308           3220618783  Luisthebestcat             81   \n",
       "\n",
       "   followers_count                                   self_discription  \\\n",
       "0               19  シェブ チェリオスです。充電しないと即停止します。面白いツイートはできません。基本、夜しか出...   \n",
       "1              794                                          みんなもレッツ諦念   \n",
       "2               22  大学生。クリープハイプ/andymori/ナードマグネット/teto/リーガルリリー/Hel...   \n",
       "3             1201                                       J-subculture   \n",
       "4               44  I love it all japanese music like indigo la En...   \n",
       "\n",
       "   protected  \n",
       "0          0  \n",
       "1          0  \n",
       "2          0  \n",
       "3          0  \n",
       "4          0  "
      ]
     },
     "execution_count": 2,
     "metadata": {},
     "output_type": "execute_result"
    }
   ],
   "source": [
    "import pandas as pd\n",
    "import psycopg2\n",
    "\n",
    "# 接続情報\n",
    "connection_config = {\n",
    "    'host': os.environ['RDS_HOST'],\n",
    "    'port': '5432',\n",
    "    'database': os.environ['RDS_DATABASE'],\n",
    "    'user': os.environ['RDS_USERNAME'],\n",
    "    'password': os.environ['RDS_PASSWORD']\n",
    "}\n",
    "\n",
    "# 接続\n",
    "connection = psycopg2.connect(**connection_config)\n",
    "df = pd.read_sql(sql=\"SELECT * FROM for_research.user_info;\", con=connection)\n",
    "df.head()"
   ]
  },
  {
   "cell_type": "code",
   "execution_count": 3,
   "metadata": {},
   "outputs": [
    {
     "data": {
      "text/plain": [
       "(5361, 7)"
      ]
     },
     "execution_count": 3,
     "metadata": {},
     "output_type": "execute_result"
    }
   ],
   "source": [
    "df.shape"
   ]
  },
  {
   "cell_type": "code",
   "execution_count": 4,
   "metadata": {},
   "outputs": [],
   "source": [
    "df = df[df.protected==0]"
   ]
  },
  {
   "cell_type": "code",
   "execution_count": 5,
   "metadata": {},
   "outputs": [
    {
     "data": {
      "text/plain": [
       "(4969, 7)"
      ]
     },
     "execution_count": 5,
     "metadata": {},
     "output_type": "execute_result"
    }
   ],
   "source": [
    "df.shape"
   ]
  },
  {
   "cell_type": "code",
   "execution_count": 6,
   "metadata": {},
   "outputs": [
    {
     "data": {
      "text/plain": [
       "array([[<matplotlib.axes._subplots.AxesSubplot object at 0x116b57518>,\n",
       "        <matplotlib.axes._subplots.AxesSubplot object at 0x118684240>]],\n",
       "      dtype=object)"
      ]
     },
     "execution_count": 6,
     "metadata": {},
     "output_type": "execute_result"
    },
    {
     "data": {
      "image/png": "[encoded data removed]",
      "text/plain": [
       "<Figure size 1080x360 with 2 Axes>"
      ]
     },
     "metadata": {},
     "output_type": "display_data"
    }
   ],
   "source": [
    "max_count = 5000\n",
    "\n",
    "df.loc[(df.friends_count<max_count) & (df.followers_count<max_count), ['friends_count', 'followers_count']].hist(bins=50, figsize=(15,5))"
   ]
  },
  {
   "cell_type": "code",
   "execution_count": 16,
   "metadata": {},
   "outputs": [],
   "source": [
    "test_df = df[(400<df.friends_count) & (df.friends_count<=500)]\n",
    "test_df = test_df.reset_index(drop=True)"
   ]
  },
  {
   "cell_type": "code",
   "execution_count": 12,
   "metadata": {},
   "outputs": [
    {
     "data": {
      "text/plain": [
       "array([[<matplotlib.axes._subplots.AxesSubplot object at 0x11ac58780>,\n",
       "        <matplotlib.axes._subplots.AxesSubplot object at 0x11b664ba8>]],\n",
       "      dtype=object)"
      ]
     },
     "execution_count": 12,
     "metadata": {},
     "output_type": "execute_result"
    },
    {
     "data": {
      "image/png": "[encoded data removed]",
      "text/plain": [
       "<Figure size 1080x360 with 2 Axes>"
      ]
     },
     "metadata": {},
     "output_type": "display_data"
    }
   ],
   "source": [
    "test_df.loc[:, ['friends_count', 'followers_count']].hist(bins=50, figsize=(15,5))"
   ]
  },
  {
   "cell_type": "markdown",
   "metadata": {},
   "source": [
    "### 指定範囲ユーザーのフォロワーidsを取得"
   ]
  },
  {
   "cell_type": "code",
   "execution_count": 19,
   "metadata": {},
   "outputs": [],
   "source": [
    "from db import psql_save\n",
    "psql = psql_save()\n",
    "\n",
    "tw = twitter()\n",
    "\n",
    "value_list = []\n",
    "test_df = test_df.reset_index(drop=True)\n",
    "\n",
    "for i in tqdm(range(len(test_df))):\n",
    "    user_id = test_df['user_id'][i]\n",
    "    screen_name = test_df['screen_name'][i]\n",
    "    \n",
    "    friends_ids = tw.getFriendIds(screen_name)\n",
    "    str_friends_ids = ','.join(map(str, friends_ids))\n",
    "    \n",
    "    psql.insert_friends(int(user_id), screen_name, str_friends_ids, value_list=None)\n",
    "    time.sleep(60*random.uniform(0.5,1.5))"
   ]
  }
 ],
 "metadata": {
  "kernelspec": {
   "display_name": "Python 3",
   "language": "python",
   "name": "python3"
  },
  "language_info": {
   "codemirror_mode": {
    "name": "ipython",
    "version": 3
   },
   "file_extension": ".py",
   "mimetype": "text/x-python",
   "name": "python",
   "nbconvert_exporter": "python",
   "pygments_lexer": "ipython3",
   "version": "3.7.0"
  }
 },
 "nbformat": 4,
 "nbformat_minor": 2
}
