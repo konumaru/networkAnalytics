{
 "cells": [
  {
   "cell_type": "markdown",
   "metadata": {},
   "source": [
    "# Twitterでフォロワーをクラスタリングしてみた。\n",
    "---"
   ]
  },
  {
   "cell_type": "markdown",
   "metadata": {},
   "source": [
    "### 使うライブラリ\n",
    "networkx, pandas, matplotlib"
   ]
  },
  {
   "cell_type": "markdown",
   "metadata": {},
   "source": [
    "## 目次\n",
    "- クラスタリングに必要なデータとは、\n",
    "- クラスタリングをするために必要な手順（ライブラリや、データ整形など）\n",
    "- 結果見る\n",
    "- 結果をDB情報から引っ張ってきてさらにみて見る。\n",
    "- 結果を元に、クラスタの属性分析をする方向性を固める。\n",
    "    - 今のところ、自己紹介文を使って、tf-idfで処理し、属性を表す単語をピックアップする予定。\n",
    "- 属性分析"
   ]
  },
  {
   "cell_type": "markdown",
   "metadata": {},
   "source": [
    "## クラスタリングに必要なデータとは。\n",
    "簡単にまとめると、  \n",
    "ノードとエッジのみ。\n",
    "\n",
    "今回の場合は、  \n",
    "ノード = フォロワー（twitterユーザー）  \n",
    "エッジ = 繋がりの関係（誰が誰をフォローしているのかということ）"
   ]
  },
  {
   "cell_type": "markdown",
   "metadata": {},
   "source": [
    "ちょっとしたデモやる"
   ]
  },
  {
   "cell_type": "code",
   "execution_count": 1,
   "metadata": {},
   "outputs": [],
   "source": [
    "import os, sys\n",
    "sys.path.append('..')\n",
    "\n",
    "import json\n",
    "import time\n",
    "import random\n",
    "from tqdm import tqdm\n",
    "\n",
    "import networkx as nx\n",
    "import matplotlib.pyplot as plt\n",
    "%matplotlib inline"
   ]
  },
  {
   "cell_type": "code",
   "execution_count": 2,
   "metadata": {},
   "outputs": [],
   "source": [
    "# グラフの定義\n",
    "G = nx.DiGraph()"
   ]
  },
  {
   "cell_type": "code",
   "execution_count": 3,
   "metadata": {},
   "outputs": [],
   "source": [
    "# エッジの追加\n",
    "G.add_node(1)"
   ]
  },
  {
   "cell_type": "code",
   "execution_count": 4,
   "metadata": {},
   "outputs": [],
   "source": [
    "# エッジの追加。存在しないノードは勝手に作ってくれる。\n",
    "G.add_edge(2, 3)"
   ]
  },
  {
   "cell_type": "code",
   "execution_count": 5,
   "metadata": {},
   "outputs": [
    {
     "data": {
      "text/plain": [
       "NodeView((1, 2, 3))"
      ]
     },
     "execution_count": 5,
     "metadata": {},
     "output_type": "execute_result"
    }
   ],
   "source": [
    "# 存在するノードの確認\n",
    "G.nodes()"
   ]
  },
  {
   "cell_type": "code",
   "execution_count": 6,
   "metadata": {},
   "outputs": [
    {
     "data": {
      "text/plain": [
       "OutEdgeView([(2, 3)])"
      ]
     },
     "execution_count": 6,
     "metadata": {},
     "output_type": "execute_result"
    }
   ],
   "source": [
    "# 存在するエッジの確認\n",
    "G.edges()"
   ]
  },
  {
   "cell_type": "code",
   "execution_count": 7,
   "metadata": {},
   "outputs": [
    {
     "data": {
      "image/png": "[encoded data removed]",
      "text/plain": [
       "<matplotlib.figure.Figure at 0x10da5a2b0>"
      ]
     },
     "metadata": {},
     "output_type": "display_data"
    }
   ],
   "source": [
    "plt.figure(figsize=(6,4))\n",
    "pos = nx.spring_layout(G) # グラフにラベルつける。\n",
    "nx.draw_networkx(G, pos)\n",
    "plt.axis(\"off\")\n",
    "plt.show()"
   ]
  },
  {
   "cell_type": "markdown",
   "metadata": {},
   "source": [
    "## クラスタリングをするために必要な手順（ライブラリや、データ整形など）\n",
    "__ライブラリ__  \n",
    "ライブラリは前述したものを参考に。  \n",
    "\n",
    "__データ__  \n",
    "- twitterのuser_idをひとまず、ノードの判別に利用する。\n",
    "- フォロワーがフォローしているユーザー群を持ってきて、フォロワーに含まれるuser_idを取得  \n",
    "イメージ  \n",
    "```\n",
    "dict = {ユーザーA: [B, C, D, F], ユーザーB: [A, D, E], ...}\n",
    "```"
   ]
  },
  {
   "cell_type": "code",
   "execution_count": 8,
   "metadata": {},
   "outputs": [],
   "source": [
    "from functions import twitter"
   ]
  },
  {
   "cell_type": "code",
   "execution_count": 9,
   "metadata": {},
   "outputs": [],
   "source": [
    "with open('../data/key.json') as f:\n",
    "    keys = json.load(f)\n",
    "\n",
    "tw = twitter(keys)"
   ]
  },
  {
   "cell_type": "code",
   "execution_count": 10,
   "metadata": {},
   "outputs": [
    {
     "name": "stdout",
     "output_type": "stream",
     "text": [
      "totalGetFollowerNum: 4529\n"
     ]
    }
   ],
   "source": [
    "# まず、自分のフォロワーを取得\n",
    "my_followers = tw.getFollowerIds(screen_name='rui_308')"
   ]
  },
  {
   "cell_type": "markdown",
   "metadata": {},
   "source": [
    "フォローしている人リストを取得するいは、スクリーンネームが必要っぽい。本当かはわからない。  \n",
    "\n",
    "ひとまず、フォロワーの情報を集めることに。"
   ]
  },
  {
   "cell_type": "code",
   "execution_count": 10,
   "metadata": {},
   "outputs": [],
   "source": [
    "# 初回のみ\n",
    "\n",
    "# # データベース操作用\n",
    "# from db import psql_save\n",
    "\n",
    "# psql = psql_save()\n",
    "# # テーブルの作成\n",
    "# psql.recreate_tables()"
   ]
  },
  {
   "cell_type": "code",
   "execution_count": null,
   "metadata": {},
   "outputs": [],
   "source": [
    "# idリストからユーザー情報の取得\n",
    "tw.getUserInfo(query_screen_name='rui_308', ids=my_followers)"
   ]
  },
  {
   "cell_type": "markdown",
   "metadata": {},
   "source": [
    "### DBからpandas.DataFrameに代入 "
   ]
  },
  {
   "cell_type": "code",
   "execution_count": 10,
   "metadata": {},
   "outputs": [
    {
     "data": {
      "text/html": [
       "<div>\n",
       "<style scoped>\n",
       "    .dataframe tbody tr th:only-of-type {\n",
       "        vertical-align: middle;\n",
       "    }\n",
       "\n",
       "    .dataframe tbody tr th {\n",
       "        vertical-align: top;\n",
       "    }\n",
       "\n",
       "    .dataframe thead th {\n",
       "        text-align: right;\n",
       "    }\n",
       "</style>\n",
       "<table border=\"1\" class=\"dataframe\">\n",
       "  <thead>\n",
       "    <tr style=\"text-align: right;\">\n",
       "      <th></th>\n",
       "      <th>slave_screen_name</th>\n",
       "      <th>user_id</th>\n",
       "      <th>screen_name</th>\n",
       "      <th>friends_count</th>\n",
       "      <th>followers_count</th>\n",
       "      <th>self_discription</th>\n",
       "    </tr>\n",
       "  </thead>\n",
       "  <tbody>\n",
       "    <tr>\n",
       "      <th>0</th>\n",
       "      <td>rui_308</td>\n",
       "      <td>975291049991069696</td>\n",
       "      <td>chikuwa_ny</td>\n",
       "      <td>100</td>\n",
       "      <td>18</td>\n",
       "      <td>邦ロック垢🎸 KEYTALK、フォーリミ 、マイヘア、オーラル、夜ダンなど好きです！よろしく...</td>\n",
       "    </tr>\n",
       "    <tr>\n",
       "      <th>1</th>\n",
       "      <td>rui_308</td>\n",
       "      <td>1009352436811644928</td>\n",
       "      <td>bot31744407</td>\n",
       "      <td>150</td>\n",
       "      <td>20</td>\n",
       "      <td>たくさんのバンドや音楽を知っていれば周りからも注目され、作曲する際にもたくさんの引き出しを持...</td>\n",
       "    </tr>\n",
       "    <tr>\n",
       "      <th>2</th>\n",
       "      <td>rui_308</td>\n",
       "      <td>913026982115344389</td>\n",
       "      <td>haru_shumi_2</td>\n",
       "      <td>882</td>\n",
       "      <td>244</td>\n",
       "      <td>nana民2017.11.20〜 フォローお願いします┏○))低音練習中！[コラボしませんか...</td>\n",
       "    </tr>\n",
       "    <tr>\n",
       "      <th>3</th>\n",
       "      <td>rui_308</td>\n",
       "      <td>974589299315191808</td>\n",
       "      <td>Xxx__xxX_xxXxx</td>\n",
       "      <td>349</td>\n",
       "      <td>211</td>\n",
       "      <td>邦ロックがすき ☺💓 無言フォローすみません💦</td>\n",
       "    </tr>\n",
       "    <tr>\n",
       "      <th>4</th>\n",
       "      <td>rui_308</td>\n",
       "      <td>2874972216</td>\n",
       "      <td>kiske_PR</td>\n",
       "      <td>18031</td>\n",
       "      <td>16723</td>\n",
       "      <td>これからオリジナル曲やカバーしてみた動画をあげていきます！\\n\\n気に入った曲いいねする\\n...</td>\n",
       "    </tr>\n",
       "  </tbody>\n",
       "</table>\n",
       "</div>"
      ],
      "text/plain": [
       "  slave_screen_name              user_id     screen_name  friends_count  \\\n",
       "0           rui_308   975291049991069696      chikuwa_ny            100   \n",
       "1           rui_308  1009352436811644928     bot31744407            150   \n",
       "2           rui_308   913026982115344389    haru_shumi_2            882   \n",
       "3           rui_308   974589299315191808  Xxx__xxX_xxXxx            349   \n",
       "4           rui_308           2874972216        kiske_PR          18031   \n",
       "\n",
       "   followers_count                                   self_discription  \n",
       "0               18  邦ロック垢🎸 KEYTALK、フォーリミ 、マイヘア、オーラル、夜ダンなど好きです！よろしく...  \n",
       "1               20  たくさんのバンドや音楽を知っていれば周りからも注目され、作曲する際にもたくさんの引き出しを持...  \n",
       "2              244  nana民2017.11.20〜 フォローお願いします┏○))低音練習中！[コラボしませんか...  \n",
       "3              211                            邦ロックがすき ☺💓 無言フォローすみません💦  \n",
       "4            16723  これからオリジナル曲やカバーしてみた動画をあげていきます！\\n\\n気に入った曲いいねする\\n...  "
      ]
     },
     "execution_count": 10,
     "metadata": {},
     "output_type": "execute_result"
    }
   ],
   "source": [
    "import pandas as pd\n",
    "import psycopg2\n",
    "\n",
    "# 接続情報\n",
    "connection_config = {\n",
    "    'host': 'localhost',\n",
    "    'port': '5432',\n",
    "    'database': 'my_db',\n",
    "    'user': 'rui',\n",
    "    'password': 'password'\n",
    "}\n",
    "\n",
    "# 接続\n",
    "connection = psycopg2.connect(**connection_config)\n",
    "df = pd.read_sql(sql=\"SELECT * FROM twitter.follower_user_info;\", con=connection)\n",
    "df.head()"
   ]
  },
  {
   "cell_type": "code",
   "execution_count": 11,
   "metadata": {},
   "outputs": [
    {
     "data": {
      "text/plain": [
       "4301"
      ]
     },
     "execution_count": 11,
     "metadata": {},
     "output_type": "execute_result"
    }
   ],
   "source": [
    "len(df)"
   ]
  },
  {
   "cell_type": "code",
   "execution_count": 12,
   "metadata": {},
   "outputs": [
    {
     "data": {
      "text/plain": [
       "array([[<matplotlib.axes._subplots.AxesSubplot object at 0x1519704ba8>,\n",
       "        <matplotlib.axes._subplots.AxesSubplot object at 0x15198009e8>]],\n",
       "      dtype=object)"
      ]
     },
     "execution_count": 12,
     "metadata": {},
     "output_type": "execute_result"
    },
    {
     "data": {
      "image/png": "[encoded data removed]",
      "text/plain": [
       "<matplotlib.figure.Figure at 0x1088b7160>"
      ]
     },
     "metadata": {},
     "output_type": "display_data"
    }
   ],
   "source": [
    "max_count = 5000\n",
    "\n",
    "df.loc[(df.friends_count<max_count) & (df.followers_count<max_count), ['friends_count', 'followers_count']].hist(bins=50, figsize=(15,5))"
   ]
  },
  {
   "cell_type": "code",
   "execution_count": 13,
   "metadata": {},
   "outputs": [],
   "source": [
    "test_df = df[(500<df.friends_count) & (df.friends_count<600)]\n",
    "test_df = test_df.reset_index(drop=True)"
   ]
  },
  {
   "cell_type": "code",
   "execution_count": 14,
   "metadata": {},
   "outputs": [
    {
     "data": {
      "text/plain": [
       "288"
      ]
     },
     "execution_count": 14,
     "metadata": {},
     "output_type": "execute_result"
    }
   ],
   "source": [
    "len(test_df)"
   ]
  },
  {
   "cell_type": "code",
   "execution_count": 15,
   "metadata": {},
   "outputs": [
    {
     "data": {
      "text/plain": [
       "array([[<matplotlib.axes._subplots.AxesSubplot object at 0x1519883c88>,\n",
       "        <matplotlib.axes._subplots.AxesSubplot object at 0x1519b2f2b0>]],\n",
       "      dtype=object)"
      ]
     },
     "execution_count": 15,
     "metadata": {},
     "output_type": "execute_result"
    },
    {
     "data": {
      "image/png": "[encoded data removed]",
      "text/plain": [
       "<matplotlib.figure.Figure at 0x151972dcf8>"
      ]
     },
     "metadata": {},
     "output_type": "display_data"
    }
   ],
   "source": [
    "test_df.loc[:, ['friends_count', 'followers_count']].hist(bins=50, figsize=(15,5))"
   ]
  },
  {
   "cell_type": "code",
   "execution_count": 16,
   "metadata": {},
   "outputs": [],
   "source": [
    "from db import psql_save\n",
    "psql = psql_save()"
   ]
  },
  {
   "cell_type": "code",
   "execution_count": null,
   "metadata": {},
   "outputs": [
    {
     "name": "stderr",
     "output_type": "stream",
     "text": [
      "  1%|▏         | 4/288 [04:50<5:43:45, 72.63s/it]"
     ]
    }
   ],
   "source": [
    "value_list = []\n",
    "\n",
    "for i in tqdm(range(len(test_df))):\n",
    "    user_id = test_df['user_id'][i]\n",
    "    screen_name = test_df['screen_name'][i]\n",
    "    \n",
    "    friends_ids = tw.getFriendIds(screen_name)\n",
    "    str_friends_ids = ','.join(map(str, friends_ids))\n",
    "    \n",
    "    value_list.append([user_id, screen_name, str_friends_ids])\n",
    "    time.sleep(60*random.uniform(0.5,1.5))\n",
    "\n",
    "    if i%10==0 and i!=0:\n",
    "        temp = ['(%d,%s,%s)' % (v[0], v[1], v[2]) for v in value_list]\n",
    "        psql.insert_friends(value_list=temp)\n",
    "        value_list.clear()\n",
    "        time.sleep(15*60*random.uniform(0.5,1.5))"
   ]
  },
  {
   "cell_type": "code",
   "execution_count": null,
   "metadata": {},
   "outputs": [],
   "source": []
  },
  {
   "cell_type": "code",
   "execution_count": null,
   "metadata": {},
   "outputs": [],
   "source": []
  }
 ],
 "metadata": {
  "kernelspec": {
   "display_name": "Python 3",
   "language": "python",
   "name": "python3"
  },
  "language_info": {
   "codemirror_mode": {
    "name": "ipython",
    "version": 3
   },
   "file_extension": ".py",
   "mimetype": "text/x-python",
   "name": "python",
   "nbconvert_exporter": "python",
   "pygments_lexer": "ipython3",
   "version": "3.6.4"
  }
 },
 "nbformat": 4,
 "nbformat_minor": 2
}
