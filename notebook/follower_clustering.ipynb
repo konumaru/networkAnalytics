{
 "cells": [
  {
   "cell_type": "markdown",
   "metadata": {},
   "source": [
    "# Twitterでフォロワーをクラスタリングしてみた。\n",
    "---"
   ]
  },
  {
   "cell_type": "markdown",
   "metadata": {},
   "source": [
    "### 使うライブラリ\n",
    "networkx, pandas, matplotlib"
   ]
  },
  {
   "cell_type": "markdown",
   "metadata": {},
   "source": [
    "## 目次\n",
    "- クラスタリングに必要なデータとは、\n",
    "- クラスタリングをするために必要な手順（ライブラリや、データ整形など）\n",
    "- 結果見る\n",
    "- 結果をDB情報から引っ張ってきてさらにみて見る。\n",
    "- 結果を元に、クラスタの属性分析をする方向性を固める。\n",
    "    - 今のところ、自己紹介文を使って、tf-idfで処理し、属性を表す単語をピックアップする予定。\n",
    "- 属性分析"
   ]
  },
  {
   "cell_type": "markdown",
   "metadata": {},
   "source": [
    "## クラスタリングに必要なデータとは。\n",
    "簡単にまとめると、  \n",
    "ノードとエッジのみ。\n",
    "\n",
    "今回の場合は、  \n",
    "ノード = フォロワー（twitterユーザー）  \n",
    "エッジ = 繋がりの関係（誰が誰をフォローしているのかということ）"
   ]
  },
  {
   "cell_type": "markdown",
   "metadata": {},
   "source": [
    "ちょっとしたデモやる"
   ]
  },
  {
   "cell_type": "code",
   "execution_count": 12,
   "metadata": {},
   "outputs": [],
   "source": [
    "import os, sys\n",
    "sys.path.append('..')\n",
    "\n",
    "import json\n",
    "\n",
    "import networkx as nx\n",
    "import matplotlib.pyplot as plt\n",
    "%matplotlib inline"
   ]
  },
  {
   "cell_type": "code",
   "execution_count": 13,
   "metadata": {},
   "outputs": [],
   "source": [
    "# グラフの定義\n",
    "G = nx.DiGraph()"
   ]
  },
  {
   "cell_type": "code",
   "execution_count": 14,
   "metadata": {},
   "outputs": [],
   "source": [
    "# エッジの追加\n",
    "G.add_node(1)"
   ]
  },
  {
   "cell_type": "code",
   "execution_count": 15,
   "metadata": {},
   "outputs": [],
   "source": [
    "# エッジの追加。存在しないノードは勝手に作ってくれる。\n",
    "G.add_edge(2, 3)"
   ]
  },
  {
   "cell_type": "code",
   "execution_count": 16,
   "metadata": {},
   "outputs": [
    {
     "data": {
      "text/plain": [
       "NodeView((1, 2, 3))"
      ]
     },
     "execution_count": 16,
     "metadata": {},
     "output_type": "execute_result"
    }
   ],
   "source": [
    "# 存在するノードの確認\n",
    "G.nodes()"
   ]
  },
  {
   "cell_type": "code",
   "execution_count": 17,
   "metadata": {},
   "outputs": [
    {
     "data": {
      "text/plain": [
       "OutEdgeView([(2, 3)])"
      ]
     },
     "execution_count": 17,
     "metadata": {},
     "output_type": "execute_result"
    }
   ],
   "source": [
    "# 存在するエッジの確認\n",
    "G.edges()"
   ]
  },
  {
   "cell_type": "code",
   "execution_count": 18,
   "metadata": {},
   "outputs": [
    {
     "data": {
      "image/png": "[encoded data removed]",
      "text/plain": [
       "<Figure size 432x288 with 1 Axes>"
      ]
     },
     "metadata": {},
     "output_type": "display_data"
    }
   ],
   "source": [
    "plt.figure(figsize=(6,4))\n",
    "pos = nx.spring_layout(G) # グラフにラベルつける。\n",
    "nx.draw_networkx(G, pos)\n",
    "plt.axis(\"off\")\n",
    "plt.show()"
   ]
  },
  {
   "cell_type": "markdown",
   "metadata": {},
   "source": [
    "## クラスタリングをするために必要な手順（ライブラリや、データ整形など）\n",
    "__ライブラリ__  \n",
    "ライブラリは前述したものを参考に。  \n",
    "\n",
    "__データ__  \n",
    "- twitterのuser_idをひとまず、ノードの判別に利用する。\n",
    "- フォロワーがフォローしているユーザー群を持ってきて、フォロワーに含まれるuser_idを取得  \n",
    "イメージ  \n",
    "```\n",
    "dict = {ユーザーA: [B, C, D, F], ユーザーB: [A, D, E], ...}\n",
    "```"
   ]
  },
  {
   "cell_type": "code",
   "execution_count": 19,
   "metadata": {},
   "outputs": [],
   "source": [
    "from functions import twitter"
   ]
  },
  {
   "cell_type": "code",
   "execution_count": 20,
   "metadata": {},
   "outputs": [],
   "source": [
    "with open('../data/key.json') as f:\n",
    "    keys = json.load(f)\n",
    "\n",
    "tw = twitter(keys)"
   ]
  },
  {
   "cell_type": "code",
   "execution_count": null,
   "metadata": {},
   "outputs": [],
   "source": []
  }
 ],
 "metadata": {
  "kernelspec": {
   "display_name": "Python [default]",
   "language": "python",
   "name": "python3"
  },
  "language_info": {
   "codemirror_mode": {
    "name": "ipython",
    "version": 3
   },
   "file_extension": ".py",
   "mimetype": "text/x-python",
   "name": "python",
   "nbconvert_exporter": "python",
   "pygments_lexer": "ipython3",
   "version": "3.5.4"
  }
 },
 "nbformat": 4,
 "nbformat_minor": 2
}
