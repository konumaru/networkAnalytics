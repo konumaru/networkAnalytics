{
 "cells": [
  {
   "cell_type": "code",
   "execution_count": 30,
   "metadata": {},
   "outputs": [],
   "source": [
    "import requests\n",
    "import os\n",
    "import hashlib\n",
    "import sys\n",
    "\n",
    "# 画像をダウンロードする\n",
    "def download_image(url, timeout = 10):\n",
    "    response = requests.get(url, allow_redirects=False, timeout=timeout)\n",
    "    if response.status_code != 200:\n",
    "        e = Exception(\"HTTP status: \" + response.status_code)\n",
    "        raise e\n",
    "\n",
    "    content_type = response.headers[\"content-type\"]\n",
    "    if 'image' not in content_type:\n",
    "        e = Exception(\"Content-Type: \" + content_type)\n",
    "        raise e\n",
    "\n",
    "    return response.content\n",
    "\n",
    "# 画像のファイル名を決める\n",
    "def make_filename(base_dir, number, url):\n",
    "    ext = os.path.splitext(url)[1] # 拡張子を取得\n",
    "    filename = number + ext        # 番号に拡張子をつけてファイル名にする\n",
    "\n",
    "    fullpath = os.path.join(base_dir, filename)\n",
    "    return fullpath\n",
    "\n",
    "# 画像を保存する\n",
    "def save_image(filename, image):\n",
    "    with open(filename, \"wb\") as fout:\n",
    "        fout.write(image)"
   ]
  },
  {
   "cell_type": "code",
   "execution_count": 31,
   "metadata": {},
   "outputs": [],
   "source": [
    "url = 'https://cdn.kufura.jp/wp-content/uploads/2017/11/Fotolia_144834045_Subscription_Monthly_M-e1511750334744.jpg'\n",
    "img = download_image(url)"
   ]
  },
  {
   "cell_type": "code",
   "execution_count": 39,
   "metadata": {},
   "outputs": [],
   "source": [
    "hashed_name = hashlib.md5(url.encode('utf-8')).hexdigest()\n",
    "\n",
    "save_image('{0}.jpg'.format(hashed_name), img)"
   ]
  },
  {
   "cell_type": "code",
   "execution_count": null,
   "metadata": {},
   "outputs": [],
   "source": []
  }
 ],
 "metadata": {
  "kernelspec": {
   "display_name": "Python [default]",
   "language": "python",
   "name": "python3"
  },
  "language_info": {
   "codemirror_mode": {
    "name": "ipython",
    "version": 3
   },
   "file_extension": ".py",
   "mimetype": "text/x-python",
   "name": "python",
   "nbconvert_exporter": "python",
   "pygments_lexer": "ipython3",
   "version": "3.5.4"
  }
 },
 "nbformat": 4,
 "nbformat_minor": 2
}
