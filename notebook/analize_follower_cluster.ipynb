{
 "cells": [
  {
   "cell_type": "markdown",
   "metadata": {},
   "source": [
    "# Twitterでフォロワーをクラスタリングしてみた。\n",
    "---\n",
    "分析"
   ]
  },
  {
   "cell_type": "markdown",
   "metadata": {
    "slideshow": {
     "slide_type": "notes"
    }
   },
   "source": [
    "## 目次\n",
    "- フォロワー同士の関係を取得\n",
    "- グラフの定義・クラスタ"
   ]
  },
  {
   "cell_type": "code",
   "execution_count": 3,
   "metadata": {},
   "outputs": [],
   "source": [
    "import os, sys\n",
    "sys.path.append('..')\n",
    "\n",
    "from tqdm import tqdm\n",
    "import psycopg2\n",
    "\n",
    "import pandas as pd\n",
    "import numpy as np\n",
    "\n",
    "import networkx as nx\n",
    "import matplotlib.pyplot as plt\n",
    "%matplotlib inline"
   ]
  },
  {
   "cell_type": "markdown",
   "metadata": {},
   "source": [
    "## 1. フォロワー同士の関係を取得"
   ]
  },
  {
   "cell_type": "code",
   "execution_count": 5,
   "metadata": {},
   "outputs": [],
   "source": [
    "# 接続情報\n",
    "connection_config = {\n",
    "    'host': 'localhost',\n",
    "    'port': '5432',\n",
    "    'database': 'my_db',\n",
    "    'user': 'rui',\n",
    "    'password': 'password'\n",
    "}\n",
    "\n",
    "conn = psycopg2.connect(**connection_config)"
   ]
  },
  {
   "cell_type": "code",
   "execution_count": 30,
   "metadata": {},
   "outputs": [],
   "source": [
    "q_screen_name = 'rui_308'\n",
    "q = \"SELECT * FROM twitter.follower_user_info where slave_screen_name='%s'\" % q_screen_name\n",
    "\n",
    "follower_df = pd.read_sql(sql=q, con=conn)"
   ]
  },
  {
   "cell_type": "code",
   "execution_count": 33,
   "metadata": {},
   "outputs": [
    {
     "data": {
      "text/html": [
       "<div>\n",
       "<style scoped>\n",
       "    .dataframe tbody tr th:only-of-type {\n",
       "        vertical-align: middle;\n",
       "    }\n",
       "\n",
       "    .dataframe tbody tr th {\n",
       "        vertical-align: top;\n",
       "    }\n",
       "\n",
       "    .dataframe thead th {\n",
       "        text-align: right;\n",
       "    }\n",
       "</style>\n",
       "<table border=\"1\" class=\"dataframe\">\n",
       "  <thead>\n",
       "    <tr style=\"text-align: right;\">\n",
       "      <th></th>\n",
       "      <th>slave_screen_name</th>\n",
       "      <th>user_id</th>\n",
       "      <th>screen_name</th>\n",
       "      <th>friends_count</th>\n",
       "      <th>followers_count</th>\n",
       "      <th>self_discription</th>\n",
       "      <th>protected</th>\n",
       "    </tr>\n",
       "  </thead>\n",
       "  <tbody>\n",
       "    <tr>\n",
       "      <th>0</th>\n",
       "      <td>rui_308</td>\n",
       "      <td>886745335</td>\n",
       "      <td>classics_jp</td>\n",
       "      <td>3074</td>\n",
       "      <td>2814</td>\n",
       "      <td>ホメロス(H),アイスキュロス(Ac),ソフォクレス(S),エウリピデス(E),アリストパネ...</td>\n",
       "      <td>0</td>\n",
       "    </tr>\n",
       "    <tr>\n",
       "      <th>1</th>\n",
       "      <td>rui_308</td>\n",
       "      <td>505760483</td>\n",
       "      <td>DM_Hero</td>\n",
       "      <td>4852</td>\n",
       "      <td>3806</td>\n",
       "      <td>最近のデュエマで勝手に思ったことをカード別につぶやくbotです デュエルマスターズをやってる...</td>\n",
       "      <td>0</td>\n",
       "    </tr>\n",
       "    <tr>\n",
       "      <th>2</th>\n",
       "      <td>rui_308</td>\n",
       "      <td>379144705</td>\n",
       "      <td>ayataka_bot</td>\n",
       "      <td>61</td>\n",
       "      <td>52</td>\n",
       "      <td>http://t.co/OGdrONxkEE←説明書 創作bot。高天原防衛軍二番隊隊長の一...</td>\n",
       "      <td>0</td>\n",
       "    </tr>\n",
       "    <tr>\n",
       "      <th>3</th>\n",
       "      <td>rui_308</td>\n",
       "      <td>312027457</td>\n",
       "      <td>AAtest_bot</td>\n",
       "      <td>345</td>\n",
       "      <td>267</td>\n",
       "      <td>2chはモナー板、長編AA板の名言・迷言などを幅広く集めていくつもりのbot。こちらはテスト...</td>\n",
       "      <td>0</td>\n",
       "    </tr>\n",
       "    <tr>\n",
       "      <th>4</th>\n",
       "      <td>rui_308</td>\n",
       "      <td>2944058462</td>\n",
       "      <td>GMAhikaru</td>\n",
       "      <td>2500</td>\n",
       "      <td>2911</td>\n",
       "      <td>Lv17電波少女 邦ロック</td>\n",
       "      <td>0</td>\n",
       "    </tr>\n",
       "  </tbody>\n",
       "</table>\n",
       "</div>"
      ],
      "text/plain": [
       "  slave_screen_name     user_id  screen_name  friends_count  followers_count  \\\n",
       "0           rui_308   886745335  classics_jp           3074             2814   \n",
       "1           rui_308   505760483      DM_Hero           4852             3806   \n",
       "2           rui_308   379144705  ayataka_bot             61               52   \n",
       "3           rui_308   312027457   AAtest_bot            345              267   \n",
       "4           rui_308  2944058462    GMAhikaru           2500             2911   \n",
       "\n",
       "                                    self_discription  protected  \n",
       "0  ホメロス(H),アイスキュロス(Ac),ソフォクレス(S),エウリピデス(E),アリストパネ...          0  \n",
       "1  最近のデュエマで勝手に思ったことをカード別につぶやくbotです デュエルマスターズをやってる...          0  \n",
       "2  http://t.co/OGdrONxkEE←説明書 創作bot。高天原防衛軍二番隊隊長の一...          0  \n",
       "3  2chはモナー板、長編AA板の名言・迷言などを幅広く集めていくつもりのbot。こちらはテスト...          0  \n",
       "4                                      Lv17電波少女 邦ロック          0  "
      ]
     },
     "execution_count": 33,
     "metadata": {},
     "output_type": "execute_result"
    }
   ],
   "source": [
    "follower_df.head()"
   ]
  },
  {
   "cell_type": "code",
   "execution_count": 43,
   "metadata": {},
   "outputs": [],
   "source": [
    "q_follower_ids = follower_df['user_id']"
   ]
  },
  {
   "cell_type": "code",
   "execution_count": 69,
   "metadata": {},
   "outputs": [],
   "source": [
    "q = \"select * from twitter.friends\"\n",
    "\n",
    "friends_df = pd.read_sql(sql=q, con=conn)"
   ]
  },
  {
   "cell_type": "code",
   "execution_count": 70,
   "metadata": {},
   "outputs": [],
   "source": [
    "friends_df['com_friend_ids'] = friends_df['friend_ids'].str.split(',').apply(lambda x: list(set(x) & set(q_follower_ids)))"
   ]
  },
  {
   "cell_type": "code",
   "execution_count": 71,
   "metadata": {},
   "outputs": [
    {
     "data": {
      "text/html": [
       "<div>\n",
       "<style scoped>\n",
       "    .dataframe tbody tr th:only-of-type {\n",
       "        vertical-align: middle;\n",
       "    }\n",
       "\n",
       "    .dataframe tbody tr th {\n",
       "        vertical-align: top;\n",
       "    }\n",
       "\n",
       "    .dataframe thead th {\n",
       "        text-align: right;\n",
       "    }\n",
       "</style>\n",
       "<table border=\"1\" class=\"dataframe\">\n",
       "  <thead>\n",
       "    <tr style=\"text-align: right;\">\n",
       "      <th></th>\n",
       "      <th>user_id</th>\n",
       "      <th>screen_name</th>\n",
       "      <th>friend_ids</th>\n",
       "      <th>com_friend_ids</th>\n",
       "    </tr>\n",
       "  </thead>\n",
       "  <tbody>\n",
       "    <tr>\n",
       "      <th>0</th>\n",
       "      <td>1907355950</td>\n",
       "      <td>0127jdabcyasu</td>\n",
       "      <td>1012930315755507713,946948515514609665,3145665...</td>\n",
       "      <td>[]</td>\n",
       "    </tr>\n",
       "    <tr>\n",
       "      <th>1</th>\n",
       "      <td>800313087039410177</td>\n",
       "      <td>ONEOKROCK_Mamo</td>\n",
       "      <td>776049295,2939946835,907526713,819951672063447...</td>\n",
       "      <td>[]</td>\n",
       "    </tr>\n",
       "    <tr>\n",
       "      <th>2</th>\n",
       "      <td>777882633950801920</td>\n",
       "      <td>live_love_333</td>\n",
       "      <td>239782959,843863742504886272,89387209332177305...</td>\n",
       "      <td>[]</td>\n",
       "    </tr>\n",
       "    <tr>\n",
       "      <th>3</th>\n",
       "      <td>760426981594771456</td>\n",
       "      <td>s_ALXD</td>\n",
       "      <td>3145665278,4431646093,976452610596126723,90800...</td>\n",
       "      <td>[]</td>\n",
       "    </tr>\n",
       "    <tr>\n",
       "      <th>4</th>\n",
       "      <td>2662271406</td>\n",
       "      <td>hinatanu0713</td>\n",
       "      <td>883850801889689600,883644726846439424,10107728...</td>\n",
       "      <td>[]</td>\n",
       "    </tr>\n",
       "  </tbody>\n",
       "</table>\n",
       "</div>"
      ],
      "text/plain": [
       "              user_id     screen_name  \\\n",
       "0          1907355950   0127jdabcyasu   \n",
       "1  800313087039410177  ONEOKROCK_Mamo   \n",
       "2  777882633950801920   live_love_333   \n",
       "3  760426981594771456          s_ALXD   \n",
       "4          2662271406    hinatanu0713   \n",
       "\n",
       "                                          friend_ids com_friend_ids  \n",
       "0  1012930315755507713,946948515514609665,3145665...             []  \n",
       "1  776049295,2939946835,907526713,819951672063447...             []  \n",
       "2  239782959,843863742504886272,89387209332177305...             []  \n",
       "3  3145665278,4431646093,976452610596126723,90800...             []  \n",
       "4  883850801889689600,883644726846439424,10107728...             []  "
      ]
     },
     "execution_count": 71,
     "metadata": {},
     "output_type": "execute_result"
    }
   ],
   "source": [
    "friends_df.head()"
   ]
  },
  {
   "cell_type": "code",
   "execution_count": 72,
   "metadata": {},
   "outputs": [
    {
     "name": "stdout",
     "output_type": "stream",
     "text": [
      "<class 'pandas.core.frame.DataFrame'>\n",
      "RangeIndex: 370 entries, 0 to 369\n",
      "Data columns (total 4 columns):\n",
      "user_id           370 non-null int64\n",
      "screen_name       370 non-null object\n",
      "friend_ids        370 non-null object\n",
      "com_friend_ids    370 non-null object\n",
      "dtypes: int64(1), object(3)\n",
      "memory usage: 11.6+ KB\n"
     ]
    }
   ],
   "source": [
    "friends_df.info()"
   ]
  },
  {
   "cell_type": "code",
   "execution_count": 73,
   "metadata": {},
   "outputs": [
    {
     "data": {
      "text/plain": [
       "370"
      ]
     },
     "execution_count": 73,
     "metadata": {},
     "output_type": "execute_result"
    }
   ],
   "source": [
    "len(list(set(friends_df['user_id']) & set(q_follower_ids)))"
   ]
  },
  {
   "cell_type": "code",
   "execution_count": 74,
   "metadata": {},
   "outputs": [
    {
     "data": {
      "text/plain": [
       "0"
      ]
     },
     "execution_count": 74,
     "metadata": {},
     "output_type": "execute_result"
    }
   ],
   "source": [
    "friends_df['com_friend_ids'].apply(lambda x: len(x)).sum()"
   ]
  },
  {
   "cell_type": "code",
   "execution_count": null,
   "metadata": {},
   "outputs": [],
   "source": []
  },
  {
   "cell_type": "code",
   "execution_count": null,
   "metadata": {},
   "outputs": [],
   "source": []
  }
 ],
 "metadata": {
  "kernelspec": {
   "display_name": "Python 3",
   "language": "python",
   "name": "python3"
  },
  "language_info": {
   "codemirror_mode": {
    "name": "ipython",
    "version": 3
   },
   "file_extension": ".py",
   "mimetype": "text/x-python",
   "name": "python",
   "nbconvert_exporter": "python",
   "pygments_lexer": "ipython3",
   "version": "3.6.4"
  }
 },
 "nbformat": 4,
 "nbformat_minor": 2
}
