{
 "cells": [
  {
   "cell_type": "markdown",
   "metadata": {},
   "source": [
    "# Twitterでフォロワーをクラスタリングしてみた。"
   ]
  },
  {
   "cell_type": "markdown",
   "metadata": {
    "slideshow": {
     "slide_type": "notes"
    }
   },
   "source": [
    "## 目次\n",
    "---\n",
    "- フォロワー同士の関係を取得\n",
    "- クラスタリング\n",
    "- 属性分析"
   ]
  },
  {
   "cell_type": "code",
   "execution_count": 1,
   "metadata": {},
   "outputs": [],
   "source": [
    "import re\n",
    "import os, sys\n",
    "sys.path.append('../')\n",
    "\n",
    "import psycopg2\n",
    "import collections\n",
    "from tqdm import tqdm\n",
    "\n",
    "import MeCab\n",
    "import numpy as np\n",
    "import pandas as pd\n",
    "\n",
    "import warnings\n",
    "warnings.filterwarnings('ignore')\n",
    "\n",
    "import networkx as nx\n",
    "import matplotlib.pyplot as plt\n",
    "%matplotlib inline"
   ]
  },
  {
   "cell_type": "markdown",
   "metadata": {},
   "source": [
    "## フォロワー同士の関係を取得\n",
    "---"
   ]
  },
  {
   "cell_type": "code",
   "execution_count": 2,
   "metadata": {},
   "outputs": [],
   "source": [
    "# 接続情報\n",
    "connection_config = {\n",
    "    'host': os.environ['RDS_HOST'],\n",
    "    'port': '5432',\n",
    "    'database': os.environ['RDS_DATABASE'],\n",
    "    'user': os.environ['RDS_USERNAME'],\n",
    "    'password': os.environ['RDS_PASSWORD']\n",
    "}\n",
    "\n",
    "conn = psycopg2.connect(**connection_config)"
   ]
  },
  {
   "cell_type": "code",
   "execution_count": 3,
   "metadata": {},
   "outputs": [],
   "source": [
    "q_screen_name = 'rui_308'\n",
    "q = \"SELECT * FROM for_research.user_info where slave_screen_name='%s'\" % q_screen_name\n",
    "\n",
    "follower_df = pd.read_sql(sql=q, con=conn)"
   ]
  },
  {
   "cell_type": "code",
   "execution_count": 4,
   "metadata": {},
   "outputs": [
    {
     "data": {
      "text/html": [
       "<div>\n",
       "<style scoped>\n",
       "    .dataframe tbody tr th:only-of-type {\n",
       "        vertical-align: middle;\n",
       "    }\n",
       "\n",
       "    .dataframe tbody tr th {\n",
       "        vertical-align: top;\n",
       "    }\n",
       "\n",
       "    .dataframe thead th {\n",
       "        text-align: right;\n",
       "    }\n",
       "</style>\n",
       "<table border=\"1\" class=\"dataframe\">\n",
       "  <thead>\n",
       "    <tr style=\"text-align: right;\">\n",
       "      <th></th>\n",
       "      <th>slave_screen_name</th>\n",
       "      <th>user_id</th>\n",
       "      <th>screen_name</th>\n",
       "      <th>friends_count</th>\n",
       "      <th>followers_count</th>\n",
       "      <th>self_description</th>\n",
       "      <th>protected</th>\n",
       "    </tr>\n",
       "  </thead>\n",
       "  <tbody>\n",
       "    <tr>\n",
       "      <th>0</th>\n",
       "      <td>rui_308</td>\n",
       "      <td>1027812767661678592</td>\n",
       "      <td>chelios406</td>\n",
       "      <td>35</td>\n",
       "      <td>19</td>\n",
       "      <td>シェブ チェリオスです。充電しないと即停止します。面白いツイートはできません。基本、夜しか出...</td>\n",
       "      <td>0</td>\n",
       "    </tr>\n",
       "    <tr>\n",
       "      <th>1</th>\n",
       "      <td>rui_308</td>\n",
       "      <td>473583122</td>\n",
       "      <td>hasamarhythm</td>\n",
       "      <td>1080</td>\n",
       "      <td>794</td>\n",
       "      <td>みんなもレッツ諦念</td>\n",
       "      <td>0</td>\n",
       "    </tr>\n",
       "    <tr>\n",
       "      <th>2</th>\n",
       "      <td>rui_308</td>\n",
       "      <td>742897072228044800</td>\n",
       "      <td>ke_mirakao8</td>\n",
       "      <td>102</td>\n",
       "      <td>22</td>\n",
       "      <td>大学生。クリープハイプ/andymori/ナードマグネット/teto/リーガルリリー/Hel...</td>\n",
       "      <td>0</td>\n",
       "    </tr>\n",
       "    <tr>\n",
       "      <th>3</th>\n",
       "      <td>rui_308</td>\n",
       "      <td>3184817456</td>\n",
       "      <td>JSUBC</td>\n",
       "      <td>1194</td>\n",
       "      <td>1201</td>\n",
       "      <td>J-subculture</td>\n",
       "      <td>0</td>\n",
       "    </tr>\n",
       "    <tr>\n",
       "      <th>4</th>\n",
       "      <td>rui_308</td>\n",
       "      <td>3220618783</td>\n",
       "      <td>Luisthebestcat</td>\n",
       "      <td>81</td>\n",
       "      <td>44</td>\n",
       "      <td>I love it all japanese music like indigo la En...</td>\n",
       "      <td>0</td>\n",
       "    </tr>\n",
       "  </tbody>\n",
       "</table>\n",
       "</div>"
      ],
      "text/plain": [
       "  slave_screen_name              user_id     screen_name  friends_count  \\\n",
       "0           rui_308  1027812767661678592      chelios406             35   \n",
       "1           rui_308            473583122    hasamarhythm           1080   \n",
       "2           rui_308   742897072228044800     ke_mirakao8            102   \n",
       "3           rui_308           3184817456           JSUBC           1194   \n",
       "4           rui_308           3220618783  Luisthebestcat             81   \n",
       "\n",
       "   followers_count                                   self_description  \\\n",
       "0               19  シェブ チェリオスです。充電しないと即停止します。面白いツイートはできません。基本、夜しか出...   \n",
       "1              794                                          みんなもレッツ諦念   \n",
       "2               22  大学生。クリープハイプ/andymori/ナードマグネット/teto/リーガルリリー/Hel...   \n",
       "3             1201                                       J-subculture   \n",
       "4               44  I love it all japanese music like indigo la En...   \n",
       "\n",
       "   protected  \n",
       "0          0  \n",
       "1          0  \n",
       "2          0  \n",
       "3          0  \n",
       "4          0  "
      ]
     },
     "execution_count": 4,
     "metadata": {},
     "output_type": "execute_result"
    }
   ],
   "source": [
    "follower_df.head()"
   ]
  },
  {
   "cell_type": "code",
   "execution_count": 5,
   "metadata": {},
   "outputs": [],
   "source": [
    "follower_ids = follower_df['user_id']"
   ]
  },
  {
   "cell_type": "code",
   "execution_count": 6,
   "metadata": {},
   "outputs": [],
   "source": [
    "q = \"select * from for_research.friend_ids\"\n",
    "\n",
    "friends_df = pd.read_sql(sql=q, con=conn)"
   ]
  },
  {
   "cell_type": "code",
   "execution_count": 7,
   "metadata": {},
   "outputs": [],
   "source": [
    "friends_df['com_friend_ids'] = friends_df['friend_ids'].str.split(',') \\\n",
    "    .apply(lambda x: np.array(x).astype(int)) \\\n",
    "    .apply(lambda x: list(set(x) & set(follower_ids)))"
   ]
  },
  {
   "cell_type": "code",
   "execution_count": 8,
   "metadata": {},
   "outputs": [
    {
     "data": {
      "text/html": [
       "<div>\n",
       "<style scoped>\n",
       "    .dataframe tbody tr th:only-of-type {\n",
       "        vertical-align: middle;\n",
       "    }\n",
       "\n",
       "    .dataframe tbody tr th {\n",
       "        vertical-align: top;\n",
       "    }\n",
       "\n",
       "    .dataframe thead th {\n",
       "        text-align: right;\n",
       "    }\n",
       "</style>\n",
       "<table border=\"1\" class=\"dataframe\">\n",
       "  <thead>\n",
       "    <tr style=\"text-align: right;\">\n",
       "      <th></th>\n",
       "      <th>user_id</th>\n",
       "      <th>screen_name</th>\n",
       "      <th>friend_ids</th>\n",
       "      <th>com_friend_ids</th>\n",
       "    </tr>\n",
       "  </thead>\n",
       "  <tbody>\n",
       "    <tr>\n",
       "      <th>0</th>\n",
       "      <td>762311395354435584</td>\n",
       "      <td>ace_0815</td>\n",
       "      <td>242298498,708952352288481280,84017558035607961...</td>\n",
       "      <td>[947833242278694912, 242298498, 85504930587848...</td>\n",
       "    </tr>\n",
       "    <tr>\n",
       "      <th>1</th>\n",
       "      <td>942665865232760832</td>\n",
       "      <td>utsusemi_end</td>\n",
       "      <td>559501103,480876175,912664232881094656,3145665...</td>\n",
       "      <td>[754466790403518464, 948638887, 3221413352, 23...</td>\n",
       "    </tr>\n",
       "    <tr>\n",
       "      <th>2</th>\n",
       "      <td>804375248355213313</td>\n",
       "      <td>p_z4s3</td>\n",
       "      <td>3308626946,2962184605,3145665278,9575947655030...</td>\n",
       "      <td>[933697292909010944, 941983908576370688, 82123...</td>\n",
       "    </tr>\n",
       "    <tr>\n",
       "      <th>3</th>\n",
       "      <td>973092802925010945</td>\n",
       "      <td>fugutaruto0922</td>\n",
       "      <td>1015164230041915394,1027199962168188930,953892...</td>\n",
       "      <td>[1032537382073982976, 868816424667455489, 1015...</td>\n",
       "    </tr>\n",
       "    <tr>\n",
       "      <th>4</th>\n",
       "      <td>943103693464903681</td>\n",
       "      <td>1O_ooll</td>\n",
       "      <td>986929396085747713,845294005210378241,85895520...</td>\n",
       "      <td>[788274867141349376, 924582695358697472, 81913...</td>\n",
       "    </tr>\n",
       "  </tbody>\n",
       "</table>\n",
       "</div>"
      ],
      "text/plain": [
       "              user_id     screen_name  \\\n",
       "0  762311395354435584        ace_0815   \n",
       "1  942665865232760832    utsusemi_end   \n",
       "2  804375248355213313          p_z4s3   \n",
       "3  973092802925010945  fugutaruto0922   \n",
       "4  943103693464903681         1O_ooll   \n",
       "\n",
       "                                          friend_ids  \\\n",
       "0  242298498,708952352288481280,84017558035607961...   \n",
       "1  559501103,480876175,912664232881094656,3145665...   \n",
       "2  3308626946,2962184605,3145665278,9575947655030...   \n",
       "3  1015164230041915394,1027199962168188930,953892...   \n",
       "4  986929396085747713,845294005210378241,85895520...   \n",
       "\n",
       "                                      com_friend_ids  \n",
       "0  [947833242278694912, 242298498, 85504930587848...  \n",
       "1  [754466790403518464, 948638887, 3221413352, 23...  \n",
       "2  [933697292909010944, 941983908576370688, 82123...  \n",
       "3  [1032537382073982976, 868816424667455489, 1015...  \n",
       "4  [788274867141349376, 924582695358697472, 81913...  "
      ]
     },
     "execution_count": 8,
     "metadata": {},
     "output_type": "execute_result"
    }
   ],
   "source": [
    "friends_df.head()"
   ]
  },
  {
   "cell_type": "code",
   "execution_count": 9,
   "metadata": {},
   "outputs": [
    {
     "data": {
      "text/plain": [
       "(395, 4)"
      ]
     },
     "execution_count": 9,
     "metadata": {},
     "output_type": "execute_result"
    }
   ],
   "source": [
    "friends_df.shape"
   ]
  },
  {
   "cell_type": "code",
   "execution_count": 10,
   "metadata": {},
   "outputs": [
    {
     "data": {
      "text/plain": [
       "user_id            int64\n",
       "screen_name       object\n",
       "friend_ids        object\n",
       "com_friend_ids    object\n",
       "dtype: object"
      ]
     },
     "execution_count": 10,
     "metadata": {},
     "output_type": "execute_result"
    }
   ],
   "source": [
    "friends_df.dtypes"
   ]
  },
  {
   "cell_type": "code",
   "execution_count": 11,
   "metadata": {},
   "outputs": [
    {
     "name": "stdout",
     "output_type": "stream",
     "text": [
      "組み合せ総数： 5474.5\n"
     ]
    }
   ],
   "source": [
    "print ('組み合せ総数：', friends_df['com_friend_ids'].apply(lambda x: len(x)).sum()/2)"
   ]
  },
  {
   "cell_type": "markdown",
   "metadata": {},
   "source": [
    "## クラスタリング\n",
    "---\n",
    "1. `user_id`と`screen_name`が対応する辞書を作る\n",
    "- `friends_df['com_friend_screen_name']`の定義\n",
    "- グラフを定義\n",
    "    - `q_screen_name`と対象フォロワーを繋げる\n",
    "    - 対象フォロワー同士のエッジを追加"
   ]
  },
  {
   "cell_type": "markdown",
   "metadata": {},
   "source": [
    "### user_idとscreen_nameが対応する辞書を作る\n",
    "friends_df['com_friend_ids']に対応して、friends_df['com_friend_screen_name']を定義"
   ]
  },
  {
   "cell_type": "code",
   "execution_count": 12,
   "metadata": {},
   "outputs": [],
   "source": [
    "dict_id_to_name = follower_df[['user_id', 'screen_name']].set_index('user_id').T.to_dict()"
   ]
  },
  {
   "cell_type": "code",
   "execution_count": 13,
   "metadata": {},
   "outputs": [
    {
     "data": {
      "text/plain": [
       "'ra_0y'"
      ]
     },
     "execution_count": 13,
     "metadata": {},
     "output_type": "execute_result"
    }
   ],
   "source": [
    "# screen_nameの呼び出し方法\n",
    "dict_id_to_name[761867125589807104]['screen_name']"
   ]
  },
  {
   "cell_type": "markdown",
   "metadata": {},
   "source": [
    "### friends_df['com_friend_screen_name']の定義"
   ]
  },
  {
   "cell_type": "code",
   "execution_count": 14,
   "metadata": {},
   "outputs": [],
   "source": [
    "friends_df['com_friend_screen_name'] = friends_df['com_friend_ids'].apply(lambda x: [dict_id_to_name[i]['screen_name'] for i in x])"
   ]
  },
  {
   "cell_type": "code",
   "execution_count": 15,
   "metadata": {},
   "outputs": [
    {
     "data": {
      "text/html": [
       "<div>\n",
       "<style scoped>\n",
       "    .dataframe tbody tr th:only-of-type {\n",
       "        vertical-align: middle;\n",
       "    }\n",
       "\n",
       "    .dataframe tbody tr th {\n",
       "        vertical-align: top;\n",
       "    }\n",
       "\n",
       "    .dataframe thead th {\n",
       "        text-align: right;\n",
       "    }\n",
       "</style>\n",
       "<table border=\"1\" class=\"dataframe\">\n",
       "  <thead>\n",
       "    <tr style=\"text-align: right;\">\n",
       "      <th></th>\n",
       "      <th>user_id</th>\n",
       "      <th>screen_name</th>\n",
       "      <th>friend_ids</th>\n",
       "      <th>com_friend_ids</th>\n",
       "      <th>com_friend_screen_name</th>\n",
       "    </tr>\n",
       "  </thead>\n",
       "  <tbody>\n",
       "    <tr>\n",
       "      <th>0</th>\n",
       "      <td>762311395354435584</td>\n",
       "      <td>ace_0815</td>\n",
       "      <td>242298498,708952352288481280,84017558035607961...</td>\n",
       "      <td>[947833242278694912, 242298498, 85504930587848...</td>\n",
       "      <td>[aiueokrock, GOLDEN_PIGS, RyuyaK1208, aoboshi_s]</td>\n",
       "    </tr>\n",
       "    <tr>\n",
       "      <th>1</th>\n",
       "      <td>942665865232760832</td>\n",
       "      <td>utsusemi_end</td>\n",
       "      <td>559501103,480876175,912664232881094656,3145665...</td>\n",
       "      <td>[754466790403518464, 948638887, 3221413352, 23...</td>\n",
       "      <td>[yutokk00, shuhei_t_, arca__info, maropoti09, ...</td>\n",
       "    </tr>\n",
       "    <tr>\n",
       "      <th>2</th>\n",
       "      <td>804375248355213313</td>\n",
       "      <td>p_z4s3</td>\n",
       "      <td>3308626946,2962184605,3145665278,9575947655030...</td>\n",
       "      <td>[933697292909010944, 941983908576370688, 82123...</td>\n",
       "      <td>[sumika_______04, flumpool846, rock_RAD3612, s...</td>\n",
       "    </tr>\n",
       "    <tr>\n",
       "      <th>3</th>\n",
       "      <td>973092802925010945</td>\n",
       "      <td>fugutaruto0922</td>\n",
       "      <td>1015164230041915394,1027199962168188930,953892...</td>\n",
       "      <td>[1032537382073982976, 868816424667455489, 1015...</td>\n",
       "      <td>[K13ODA9hJR8qPJe, ALXD_Kick_Spin, FullspecHLD,...</td>\n",
       "    </tr>\n",
       "    <tr>\n",
       "      <th>4</th>\n",
       "      <td>943103693464903681</td>\n",
       "      <td>1O_ooll</td>\n",
       "      <td>986929396085747713,845294005210378241,85895520...</td>\n",
       "      <td>[788274867141349376, 924582695358697472, 81913...</td>\n",
       "      <td>[SUPERROCKBAND, toshiki_drum163, toumorocoshi4...</td>\n",
       "    </tr>\n",
       "  </tbody>\n",
       "</table>\n",
       "</div>"
      ],
      "text/plain": [
       "              user_id     screen_name  \\\n",
       "0  762311395354435584        ace_0815   \n",
       "1  942665865232760832    utsusemi_end   \n",
       "2  804375248355213313          p_z4s3   \n",
       "3  973092802925010945  fugutaruto0922   \n",
       "4  943103693464903681         1O_ooll   \n",
       "\n",
       "                                          friend_ids  \\\n",
       "0  242298498,708952352288481280,84017558035607961...   \n",
       "1  559501103,480876175,912664232881094656,3145665...   \n",
       "2  3308626946,2962184605,3145665278,9575947655030...   \n",
       "3  1015164230041915394,1027199962168188930,953892...   \n",
       "4  986929396085747713,845294005210378241,85895520...   \n",
       "\n",
       "                                      com_friend_ids  \\\n",
       "0  [947833242278694912, 242298498, 85504930587848...   \n",
       "1  [754466790403518464, 948638887, 3221413352, 23...   \n",
       "2  [933697292909010944, 941983908576370688, 82123...   \n",
       "3  [1032537382073982976, 868816424667455489, 1015...   \n",
       "4  [788274867141349376, 924582695358697472, 81913...   \n",
       "\n",
       "                              com_friend_screen_name  \n",
       "0   [aiueokrock, GOLDEN_PIGS, RyuyaK1208, aoboshi_s]  \n",
       "1  [yutokk00, shuhei_t_, arca__info, maropoti09, ...  \n",
       "2  [sumika_______04, flumpool846, rock_RAD3612, s...  \n",
       "3  [K13ODA9hJR8qPJe, ALXD_Kick_Spin, FullspecHLD,...  \n",
       "4  [SUPERROCKBAND, toshiki_drum163, toumorocoshi4...  "
      ]
     },
     "execution_count": 15,
     "metadata": {},
     "output_type": "execute_result"
    }
   ],
   "source": [
    "friends_df.head()"
   ]
  },
  {
   "cell_type": "markdown",
   "metadata": {},
   "source": [
    "### グラフを定義\n",
    "1. `q_screen_name`と対象フォロワーを繋げる\n",
    "- 対象フォロワー同士のエッジを追加"
   ]
  },
  {
   "cell_type": "code",
   "execution_count": 16,
   "metadata": {},
   "outputs": [],
   "source": [
    "# グラフの定義\n",
    "G_follower = nx.Graph()\n",
    "targets = friends_df[['screen_name', 'com_friend_screen_name']]\n",
    "\n",
    "for t, com_names in targets.values:\n",
    "    for com_name in com_names:\n",
    "        G_follower.add_edge(t, com_name)"
   ]
  },
  {
   "cell_type": "code",
   "execution_count": 17,
   "metadata": {},
   "outputs": [],
   "source": [
    "cliques = nx.node_clique_number(G_follower)"
   ]
  },
  {
   "cell_type": "code",
   "execution_count": 18,
   "metadata": {},
   "outputs": [],
   "source": [
    "cluster_dic = {}\n",
    "\n",
    "for screen_name, cluster in cliques.items():\n",
    "    if not cluster in cluster_dic.keys():\n",
    "        cluster_dic[cluster] = list()\n",
    "    cluster_dic[cluster].append(screen_name)\n",
    "    "
   ]
  },
  {
   "cell_type": "markdown",
   "metadata": {},
   "source": [
    "## 属性分析\n",
    "----"
   ]
  },
  {
   "cell_type": "markdown",
   "metadata": {},
   "source": [
    "### 言語処理\n",
    "- プロフィールから名詞のみを抽出\n",
    "    - self_discription -> nounsに変換"
   ]
  },
  {
   "cell_type": "code",
   "execution_count": 133,
   "metadata": {},
   "outputs": [],
   "source": [
    "def get_nouns(sentence):\n",
    "    mt = MeCab.Tagger(' -d /usr/local/lib/mecab/dic/mecab-ipadic-neologd')\n",
    "    mt.parse('')\n",
    "    node = mt.parseToNode(sentence)\n",
    "\n",
    "    nouns = list()\n",
    "    while node:\n",
    "        if node.feature.split(',')[0]=='名詞':\n",
    "            nouns.append(node.surface)\n",
    "        node = node.next\n",
    "\n",
    "    dst = ','.join(nouns)\n",
    "    return dst\n",
    "\n",
    "#半角小文字\n",
    "def islower(s):\n",
    "    lowerReg = re.compile(r'^[a-z]+$')\n",
    "    return lowerReg.match(s) is not None\n",
    "\n",
    "#半角数字\n",
    "def isdigit(s):\n",
    "    digitReg = re.compile(r'^[0-9]+$')\n",
    "    return digitReg.match(s) is not None"
   ]
  },
  {
   "cell_type": "code",
   "execution_count": 40,
   "metadata": {},
   "outputs": [
    {
     "data": {
      "text/plain": [
       "dict_keys([2, 3, 4, 5, 7, 8, 6])"
      ]
     },
     "execution_count": 40,
     "metadata": {},
     "output_type": "execute_result"
    }
   ],
   "source": [
    "cluster_dic.keys()"
   ]
  },
  {
   "cell_type": "code",
   "execution_count": 136,
   "metadata": {},
   "outputs": [],
   "source": [
    "cluster_df = follower_df.copy()\n",
    "cluster_df['nouns'] = cluster_df['self_description'].apply(lambda x: get_nouns(x))\n",
    "cluster_df['class'] = None"
   ]
  },
  {
   "cell_type": "code",
   "execution_count": 147,
   "metadata": {},
   "outputs": [],
   "source": [
    "# cluster_dfにクラスを割り当て\n",
    "for c, cluster_users in cluster_dic.items():\n",
    "    cluster_df.loc[cluster_df.screen_name.isin(cluster_users), 'class'] = c"
   ]
  },
  {
   "cell_type": "code",
   "execution_count": 148,
   "metadata": {},
   "outputs": [
    {
     "data": {
      "text/plain": [
       "'大学生。クリープハイプ/andymori/ナードマグネット/teto/リーガルリリー/Helsinki Lambda Club/My Hair is Bad/植田真梨恵/ヨルシカ 等色々聴きます。モンスト(ランク280運極40)と刀剣乱舞(2年目)ものんびりやってます。無言フォロー失礼します。'"
      ]
     },
     "execution_count": 148,
     "metadata": {},
     "output_type": "execute_result"
    }
   ],
   "source": [
    "cluster_df['self_description'][2]"
   ]
  },
  {
   "cell_type": "code",
   "execution_count": 156,
   "metadata": {},
   "outputs": [
    {
     "data": {
      "text/plain": [
       "(2792, 5361)"
      ]
     },
     "execution_count": 156,
     "metadata": {},
     "output_type": "execute_result"
    }
   ],
   "source": [
    "cluster_df['class'].isnull().sum(), cluster_df.shape[0]"
   ]
  },
  {
   "cell_type": "code",
   "execution_count": 157,
   "metadata": {},
   "outputs": [
    {
     "data": {
      "text/plain": [
       "2    1710\n",
       "3     608\n",
       "4     150\n",
       "8      31\n",
       "5      31\n",
       "6      25\n",
       "7      14\n",
       "Name: class, dtype: int64"
      ]
     },
     "execution_count": 157,
     "metadata": {},
     "output_type": "execute_result"
    }
   ],
   "source": [
    "cluster_df['class'].value_counts()"
   ]
  },
  {
   "cell_type": "code",
   "execution_count": 171,
   "metadata": {},
   "outputs": [
    {
     "name": "stderr",
     "output_type": "stream",
     "text": [
      "100%|██████████| 7801/7801 [00:00<00:00, 30160.55it/s]\n",
      "100%|██████████| 3863/3863 [00:00<00:00, 58741.03it/s]\n",
      "100%|██████████| 1163/1163 [00:00<00:00, 139898.35it/s]\n",
      "100%|██████████| 313/313 [00:00<00:00, 111672.10it/s]\n",
      "100%|██████████| 145/145 [00:00<00:00, 93421.52it/s]\n",
      "100%|██████████| 333/333 [00:00<00:00, 135195.36it/s]\n",
      "100%|██████████| 177/177 [00:00<00:00, 57787.17it/s]\n"
     ]
    }
   ],
   "source": [
    "# 各クラスのワードを取得\n",
    "cluster_word_dic = {}\n",
    "\n",
    "for cluster in cluster_dic.keys():\n",
    "    if not cluster in cluster_word_dic.keys():\n",
    "        cluster_word_dic[cluster] = list()\n",
    "    \n",
    "    t_cluster_df = cluster_df[cluster_df['class']==cluster]\n",
    "    all_description = ','.join(t_cluster_df.nouns.tolist())\n",
    "    all_description_list = all_description.split(',')\n",
    "\n",
    "    c = collections.Counter(all_description_list)\n",
    "\n",
    "    cluster_words = c.most_common()\n",
    "\n",
    "    for word, cnt in tqdm(c.most_common()):\n",
    "        if isdigit(word) or islower(word) or word.strip()=='':\n",
    "            cluster_words.remove((word, cnt))\n",
    "    \n",
    "    cluster_word_dic[cluster] = dict(cluster_words)"
   ]
  },
  {
   "cell_type": "code",
   "execution_count": 200,
   "metadata": {},
   "outputs": [],
   "source": [
    "data = []\n",
    "for cluster in cluster_dic.keys():\n",
    "    data.append(list(cluster_word_dic[cluster].keys())[:20])"
   ]
  },
  {
   "cell_type": "code",
   "execution_count": 204,
   "metadata": {},
   "outputs": [
    {
     "name": "stderr",
     "output_type": "stream",
     "text": [
      "100%|██████████| 19418/19418 [00:01<00:00, 10999.84it/s]\n"
     ]
    }
   ],
   "source": [
    "# 全クラスのワードを取得\n",
    "t_cluster_df = cluster_df\n",
    "all_description = ','.join(t_cluster_df.nouns.tolist())\n",
    "all_description_list = all_description.split(',')\n",
    "\n",
    "c = collections.Counter(all_description_list)\n",
    "\n",
    "cluster_words = c.most_common()\n",
    "\n",
    "for word, cnt in tqdm(c.most_common()):\n",
    "    if isdigit(word) or islower(word) or word.strip()=='':\n",
    "        cluster_words.remove((word, cnt))"
   ]
  },
  {
   "cell_type": "code",
   "execution_count": 214,
   "metadata": {},
   "outputs": [],
   "source": [
    "cluster_word_result = pd.DataFrame(np.array(data).T, columns=cluster_dic.keys())\n",
    "cluster_word_result['all'] = np.array(cluster_words)[:20, 0]"
   ]
  },
  {
   "cell_type": "code",
   "execution_count": 215,
   "metadata": {},
   "outputs": [
    {
     "data": {
      "text/html": [
       "<div>\n",
       "<style scoped>\n",
       "    .dataframe tbody tr th:only-of-type {\n",
       "        vertical-align: middle;\n",
       "    }\n",
       "\n",
       "    .dataframe tbody tr th {\n",
       "        vertical-align: top;\n",
       "    }\n",
       "\n",
       "    .dataframe thead th {\n",
       "        text-align: right;\n",
       "    }\n",
       "</style>\n",
       "<table border=\"1\" class=\"dataframe\">\n",
       "  <thead>\n",
       "    <tr style=\"text-align: right;\">\n",
       "      <th></th>\n",
       "      <th>2</th>\n",
       "      <th>3</th>\n",
       "      <th>4</th>\n",
       "      <th>5</th>\n",
       "      <th>7</th>\n",
       "      <th>8</th>\n",
       "      <th>6</th>\n",
       "      <th>all</th>\n",
       "    </tr>\n",
       "  </thead>\n",
       "  <tbody>\n",
       "    <tr>\n",
       "      <th>0</th>\n",
       "      <td>ロック</td>\n",
       "      <td>邦</td>\n",
       "      <td>ロック</td>\n",
       "      <td>FMS</td>\n",
       "      <td>研</td>\n",
       "      <td>研</td>\n",
       "      <td>研</td>\n",
       "      <td>好き</td>\n",
       "    </tr>\n",
       "    <tr>\n",
       "      <th>1</th>\n",
       "      <td>邦</td>\n",
       "      <td>ロック</td>\n",
       "      <td>邦</td>\n",
       "      <td>研</td>\n",
       "      <td>FMS</td>\n",
       "      <td>FMS</td>\n",
       "      <td>FMS</td>\n",
       "      <td>ロック</td>\n",
       "    </tr>\n",
       "    <tr>\n",
       "      <th>2</th>\n",
       "      <td>好き</td>\n",
       "      <td>好き</td>\n",
       "      <td>好き</td>\n",
       "      <td>☺</td>\n",
       "      <td>垢</td>\n",
       "      <td>B4</td>\n",
       "      <td>M</td>\n",
       "      <td>邦</td>\n",
       "    </tr>\n",
       "    <tr>\n",
       "      <th>3</th>\n",
       "      <td>フォロー</td>\n",
       "      <td>フォロー</td>\n",
       "      <td>垢</td>\n",
       "      <td>KEYTALK</td>\n",
       "      <td>フォロー</td>\n",
       "      <td>明治大学</td>\n",
       "      <td>Meiji</td>\n",
       "      <td>フォロー</td>\n",
       "    </tr>\n",
       "    <tr>\n",
       "      <th>4</th>\n",
       "      <td>無言</td>\n",
       "      <td>無言</td>\n",
       "      <td>フォロー</td>\n",
       "      <td>同盟</td>\n",
       "      <td>NCC</td>\n",
       "      <td>垢</td>\n",
       "      <td>B4</td>\n",
       "      <td>音楽</td>\n",
       "    </tr>\n",
       "    <tr>\n",
       "      <th>5</th>\n",
       "      <td>垢</td>\n",
       "      <td>垢</td>\n",
       "      <td>無言</td>\n",
       "      <td>➡</td>\n",
       "      <td>B4</td>\n",
       "      <td>宮下</td>\n",
       "      <td>明治</td>\n",
       "      <td>垢</td>\n",
       "    </tr>\n",
       "    <tr>\n",
       "      <th>6</th>\n",
       "      <td>音楽</td>\n",
       "      <td>大好き</td>\n",
       "      <td>KEYTALK</td>\n",
       "      <td>明治</td>\n",
       "      <td>二</td>\n",
       "      <td>コン</td>\n",
       "      <td>数理</td>\n",
       "      <td>無言</td>\n",
       "    </tr>\n",
       "    <tr>\n",
       "      <th>7</th>\n",
       "      <td>バンド</td>\n",
       "      <td>フォロバ</td>\n",
       "      <td>ラジ友</td>\n",
       "      <td>フォロバ</td>\n",
       "      <td>明治</td>\n",
       "      <td>班</td>\n",
       "      <td>4年</td>\n",
       "      <td>さん</td>\n",
       "    </tr>\n",
       "    <tr>\n",
       "      <th>8</th>\n",
       "      <td>ライブ</td>\n",
       "      <td>音楽</td>\n",
       "      <td>オーラル</td>\n",
       "      <td>邦</td>\n",
       "      <td>M</td>\n",
       "      <td>TOEIC</td>\n",
       "      <td>Fes</td>\n",
       "      <td>バンド</td>\n",
       "    </tr>\n",
       "    <tr>\n",
       "      <th>9</th>\n",
       "      <td>さん</td>\n",
       "      <td>参戦</td>\n",
       "      <td>キュウソ</td>\n",
       "      <td>ロック</td>\n",
       "      <td>映像</td>\n",
       "      <td>Web</td>\n",
       "      <td>音楽</td>\n",
       "      <td>大好き</td>\n",
       "    </tr>\n",
       "    <tr>\n",
       "      <th>10</th>\n",
       "      <td>大好き</td>\n",
       "      <td>さん</td>\n",
       "      <td>大好き</td>\n",
       "      <td>Meiji</td>\n",
       "      <td>制作</td>\n",
       "      <td>M1</td>\n",
       "      <td>現在</td>\n",
       "      <td>ライブ</td>\n",
       "    </tr>\n",
       "    <tr>\n",
       "      <th>11</th>\n",
       "      <td>参戦</td>\n",
       "      <td>バンド</td>\n",
       "      <td>音楽</td>\n",
       "      <td>IMS</td>\n",
       "      <td>学</td>\n",
       "      <td>3期生</td>\n",
       "      <td>中</td>\n",
       "      <td>参戦</td>\n",
       "    </tr>\n",
       "    <tr>\n",
       "      <th>12</th>\n",
       "      <td>フォロバ</td>\n",
       "      <td>勢</td>\n",
       "      <td>FM802</td>\n",
       "      <td>総合</td>\n",
       "      <td>中野</td>\n",
       "      <td>開発</td>\n",
       "      <td>現象</td>\n",
       "      <td>フォロバ</td>\n",
       "    </tr>\n",
       "    <tr>\n",
       "      <th>13</th>\n",
       "      <td>勢</td>\n",
       "      <td>KEYTALK</td>\n",
       "      <td>バンド</td>\n",
       "      <td>明治大学</td>\n",
       "      <td>DE</td>\n",
       "      <td>趣味</td>\n",
       "      <td>さん</td>\n",
       "      <td>人</td>\n",
       "    </tr>\n",
       "    <tr>\n",
       "      <th>14</th>\n",
       "      <td>オーラル</td>\n",
       "      <td>ライブ</td>\n",
       "      <td>RADWIMPS</td>\n",
       "      <td>ツイ</td>\n",
       "      <td>バド</td>\n",
       "      <td>学科</td>\n",
       "      <td>2期生</td>\n",
       "      <td>中</td>\n",
       "    </tr>\n",
       "    <tr>\n",
       "      <th>15</th>\n",
       "      <td>KEYTALK</td>\n",
       "      <td>気軽</td>\n",
       "      <td>RK</td>\n",
       "      <td>イラスト</td>\n",
       "      <td>無言</td>\n",
       "      <td>制作</td>\n",
       "      <td>3rd</td>\n",
       "      <td>趣味</td>\n",
       "    </tr>\n",
       "    <tr>\n",
       "      <th>16</th>\n",
       "      <td>中</td>\n",
       "      <td>ディッキ</td>\n",
       "      <td>大阪</td>\n",
       "      <td>ミルクティー</td>\n",
       "      <td>N</td>\n",
       "      <td>取得</td>\n",
       "      <td>明治大学</td>\n",
       "      <td>気軽</td>\n",
       "    </tr>\n",
       "    <tr>\n",
       "      <th>17</th>\n",
       "      <td>人</td>\n",
       "      <td>ドロス</td>\n",
       "      <td>さん</td>\n",
       "      <td>ファン</td>\n",
       "      <td>Meiji</td>\n",
       "      <td>映像</td>\n",
       "      <td>3期</td>\n",
       "      <td>KEYTALK</td>\n",
       "    </tr>\n",
       "    <tr>\n",
       "      <th>18</th>\n",
       "      <td>ディッキ</td>\n",
       "      <td>オーラル</td>\n",
       "      <td>ディッキ</td>\n",
       "      <td>大好き</td>\n",
       "      <td>小林</td>\n",
       "      <td>勉強会</td>\n",
       "      <td>趣味</td>\n",
       "      <td>オーラル</td>\n",
       "    </tr>\n",
       "    <tr>\n",
       "      <th>19</th>\n",
       "      <td>THE ORAL CIGARETTES</td>\n",
       "      <td>ギター</td>\n",
       "      <td>SiM</td>\n",
       "      <td>たっくん</td>\n",
       "      <td>5t</td>\n",
       "      <td>実況</td>\n",
       "      <td>よう</td>\n",
       "      <td>DM</td>\n",
       "    </tr>\n",
       "  </tbody>\n",
       "</table>\n",
       "</div>"
      ],
      "text/plain": [
       "                      2        3         4        5      7      8      6  \\\n",
       "0                   ロック        邦       ロック      FMS      研      研      研   \n",
       "1                     邦      ロック         邦        研    FMS    FMS    FMS   \n",
       "2                    好き       好き        好き        ☺      垢     B4      M   \n",
       "3                  フォロー     フォロー         垢  KEYTALK   フォロー   明治大学  Meiji   \n",
       "4                    無言       無言      フォロー       同盟    NCC      垢     B4   \n",
       "5                     垢        垢        無言        ➡     B4     宮下     明治   \n",
       "6                    音楽      大好き   KEYTALK       明治      二     コン     数理   \n",
       "7                   バンド     フォロバ       ラジ友     フォロバ     明治      班     4年   \n",
       "8                   ライブ       音楽      オーラル        邦      M  TOEIC    Fes   \n",
       "9                    さん       参戦      キュウソ      ロック     映像    Web     音楽   \n",
       "10                  大好き       さん       大好き    Meiji     制作     M1     現在   \n",
       "11                   参戦      バンド        音楽      IMS      学    3期生      中   \n",
       "12                 フォロバ        勢     FM802       総合     中野     開発     現象   \n",
       "13                    勢  KEYTALK       バンド     明治大学     DE     趣味     さん   \n",
       "14                 オーラル      ライブ  RADWIMPS       ツイ     バド     学科    2期生   \n",
       "15              KEYTALK       気軽        RK     イラスト     無言     制作    3rd   \n",
       "16                    中     ディッキ        大阪   ミルクティー      N     取得   明治大学   \n",
       "17                    人      ドロス        さん      ファン  Meiji     映像     3期   \n",
       "18                 ディッキ     オーラル      ディッキ      大好き     小林    勉強会     趣味   \n",
       "19  THE ORAL CIGARETTES      ギター       SiM     たっくん     5t     実況     よう   \n",
       "\n",
       "        all  \n",
       "0        好き  \n",
       "1       ロック  \n",
       "2         邦  \n",
       "3      フォロー  \n",
       "4        音楽  \n",
       "5         垢  \n",
       "6        無言  \n",
       "7        さん  \n",
       "8       バンド  \n",
       "9       大好き  \n",
       "10      ライブ  \n",
       "11       参戦  \n",
       "12     フォロバ  \n",
       "13        人  \n",
       "14        中  \n",
       "15       趣味  \n",
       "16       気軽  \n",
       "17  KEYTALK  \n",
       "18     オーラル  \n",
       "19       DM  "
      ]
     },
     "execution_count": 215,
     "metadata": {},
     "output_type": "execute_result"
    }
   ],
   "source": [
    "cluster_word_result"
   ]
  },
  {
   "cell_type": "code",
   "execution_count": 95,
   "metadata": {},
   "outputs": [],
   "source": [
    "# from sklearn.feature_extraction.text import TfidfVectorizer\n",
    "\n",
    "# vec = TfidfVectorizer(max_df=10)\n",
    "# all_description = ','.join(cluster_df.self_description.tolist())\n",
    "# all_description_list = all_description.split(',')\n",
    "# term_doc = vec.fit_transform(all_description_list)\n",
    "\n",
    "# vec.vocabulary_"
   ]
  },
  {
   "cell_type": "markdown",
   "metadata": {},
   "source": [
    "## 可視化"
   ]
  },
  {
   "cell_type": "code",
   "execution_count": 73,
   "metadata": {},
   "outputs": [],
   "source": [
    "import matplotlib.pyplot as plt\n",
    "from wordcloud import WordCloud"
   ]
  },
  {
   "cell_type": "code",
   "execution_count": 32,
   "metadata": {},
   "outputs": [
    {
     "name": "stderr",
     "output_type": "stream",
     "text": [
      " 98%|█████████▊| 1765/1807 [00:00<00:00, 208410.42it/s]\n"
     ]
    }
   ],
   "source": [
    "_all_description_list = all_description_list\n",
    "\n",
    "for word in tqdm(_all_description_list):\n",
    "    if isdigit(word) or islower(word) or word.strip()=='':\n",
    "        all_description_list.remove(word)"
   ]
  },
  {
   "cell_type": "code",
   "execution_count": 33,
   "metadata": {},
   "outputs": [],
   "source": [
    "fpath = \"~/Library/Fonts/ヒラギノ丸ゴ ProN W4.ttc\"\n",
    "temp = ' '.join(all_description_list)\n",
    "wordcloud = WordCloud(background_color=\"white\", font_path=fpath, width=1200, height=800, ranks_only=True).generate(temp)"
   ]
  },
  {
   "cell_type": "code",
   "execution_count": 37,
   "metadata": {},
   "outputs": [],
   "source": [
    "# plt.figure(figsize=(12,8))\n",
    "# plt.imshow(wordcloud)\n",
    "# plt.axis(\"off\")\n",
    "# plt.show()"
   ]
  },
  {
   "cell_type": "code",
   "execution_count": null,
   "metadata": {},
   "outputs": [],
   "source": []
  },
  {
   "cell_type": "code",
   "execution_count": null,
   "metadata": {},
   "outputs": [],
   "source": []
  },
  {
   "cell_type": "code",
   "execution_count": null,
   "metadata": {},
   "outputs": [],
   "source": []
  },
  {
   "cell_type": "code",
   "execution_count": null,
   "metadata": {},
   "outputs": [],
   "source": []
  },
  {
   "cell_type": "code",
   "execution_count": null,
   "metadata": {},
   "outputs": [],
   "source": []
  },
  {
   "cell_type": "code",
   "execution_count": null,
   "metadata": {},
   "outputs": [],
   "source": []
  }
 ],
 "metadata": {
  "kernelspec": {
   "display_name": "Python 3",
   "language": "python",
   "name": "python3"
  },
  "language_info": {
   "codemirror_mode": {
    "name": "ipython",
    "version": 3
   },
   "file_extension": ".py",
   "mimetype": "text/x-python",
   "name": "python",
   "nbconvert_exporter": "python",
   "pygments_lexer": "ipython3",
   "version": "3.7.0"
  }
 },
 "nbformat": 4,
 "nbformat_minor": 2
}
